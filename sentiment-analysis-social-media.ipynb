{
 "cells": [
  {
   "cell_type": "code",
   "execution_count": 1,
   "id": "1d5530be",
   "metadata": {
    "_cell_guid": "b1076dfc-b9ad-4769-8c92-a6c4dae69d19",
    "_uuid": "8f2839f25d086af736a60e9eeb907d3b93b6e0e5",
    "execution": {
     "iopub.execute_input": "2025-08-23T17:49:47.889003Z",
     "iopub.status.busy": "2025-08-23T17:49:47.888476Z",
     "iopub.status.idle": "2025-08-23T17:49:47.893490Z",
     "shell.execute_reply": "2025-08-23T17:49:47.892586Z"
    },
    "papermill": {
     "duration": 0.011615,
     "end_time": "2025-08-23T17:49:47.895041",
     "exception": false,
     "start_time": "2025-08-23T17:49:47.883426",
     "status": "completed"
    },
    "tags": []
   },
   "outputs": [],
   "source": [
    "# Sentiment Analys\n",
    "# Doing the sentiment analysis "
   ]
  },
  {
   "cell_type": "markdown",
   "id": "ca9fa7fa",
   "metadata": {
    "papermill": {
     "duration": 0.003566,
     "end_time": "2025-08-23T17:49:47.902124",
     "exception": false,
     "start_time": "2025-08-23T17:49:47.898558",
     "status": "completed"
    },
    "tags": []
   },
   "source": [
    "By Analyze the posts of social media to determine the sentiments of the people (Positive, Negative, Neutral). By using the technique of NLP (Natural Language Processing) to prprocess the text and train the model. Visualizing the sentiments by using the topic."
   ]
  },
  {
   "cell_type": "markdown",
   "id": "4b5f7404",
   "metadata": {
    "papermill": {
     "duration": 0.003085,
     "end_time": "2025-08-23T17:49:47.908701",
     "exception": false,
     "start_time": "2025-08-23T17:49:47.905616",
     "status": "completed"
    },
    "tags": []
   },
   "source": [
    "**Introduction**"
   ]
  },
  {
   "cell_type": "markdown",
   "id": "1f5dcd6c",
   "metadata": {
    "papermill": {
     "duration": 0.002951,
     "end_time": "2025-08-23T17:49:47.914864",
     "exception": false,
     "start_time": "2025-08-23T17:49:47.911913",
     "status": "completed"
    },
    "tags": []
   },
   "source": [
    "This project dives into sentiment analysis, we'll use the social media posts to figure out if people are generally feeling postitive, negative , or neutral. \n",
    "\n",
    "**Steps:**\n",
    "1. Cleaning the data\n",
    "2. Building the model\n",
    "3. Improve the model\n",
    "\n",
    "we'll use different techniques and visualizations to understand sentiment trends and hopefully build a tool that can automatically analyze public opinion."
   ]
  },
  {
   "cell_type": "code",
   "execution_count": 2,
   "id": "45694de7",
   "metadata": {
    "execution": {
     "iopub.execute_input": "2025-08-23T17:49:47.922345Z",
     "iopub.status.busy": "2025-08-23T17:49:47.922038Z",
     "iopub.status.idle": "2025-08-23T17:49:47.928021Z",
     "shell.execute_reply": "2025-08-23T17:49:47.926801Z"
    },
    "papermill": {
     "duration": 0.011917,
     "end_time": "2025-08-23T17:49:47.929830",
     "exception": false,
     "start_time": "2025-08-23T17:49:47.917913",
     "status": "completed"
    },
    "tags": []
   },
   "outputs": [],
   "source": [
    "# Project Steps that we have to take first:\n",
    "# 1. Define the problem: Understand the type of problem(classification, regression, etc.)\n",
    "# 2. Collect and Prepare Data: Obtain the dataset, handle missing values, and preprocess data.\n",
    "# 3. Exporatory Data Analysisi (EDS): Visualize data to understand patterns and correlations.\n",
    "# 4. Feature Engineering: Select and create relevant features.\n",
    "# 5. Split the Data: Divide the dataset into training and testing sets.\n",
    "# 6. Choose a model: Select a suitable machine learning algorithm\n",
    "# 7. Train the Model: Train the model using the training set.\n",
    "# 8. Evaluate the Model: Use appropriate metrics to evalueate the model on the test set.\n",
    "# 9. Improve the Model: Tune hyperparameters, try differenct algorithms, or enhance featrues\n",
    "# 10. Deploy the Model (optional): Create an application or API to make predictions using the trained model."
   ]
  },
  {
   "cell_type": "markdown",
   "id": "232d31e0",
   "metadata": {
    "papermill": {
     "duration": 0.002798,
     "end_time": "2025-08-23T17:49:47.935883",
     "exception": false,
     "start_time": "2025-08-23T17:49:47.933085",
     "status": "completed"
    },
    "tags": []
   },
   "source": [
    "**1. Define the Problem**\n",
    "\n",
    "The problem is to classify the sentiment of social media posts into three categories: positive, negative, or neutral. This is a multi-class classification problem."
   ]
  },
  {
   "cell_type": "markdown",
   "id": "8ee9c78a",
   "metadata": {
    "papermill": {
     "duration": 0.003486,
     "end_time": "2025-08-23T17:49:47.942361",
     "exception": false,
     "start_time": "2025-08-23T17:49:47.938875",
     "status": "completed"
    },
    "tags": []
   },
   "source": [
    "****Objective****\n",
    "Figure out what you're trying to do. In this case, It's determining if social media posts are generally positive, negative, or neutral in tone."
   ]
  },
  {
   "cell_type": "markdown",
   "id": "6376b1de",
   "metadata": {
    "papermill": {
     "duration": 0.002789,
     "end_time": "2025-08-23T17:49:47.948988",
     "exception": false,
     "start_time": "2025-08-23T17:49:47.946199",
     "status": "completed"
    },
    "tags": []
   },
   "source": [
    "*****Type:*****\n",
    "\n",
    "Multi-class classification (Positive, Negative, Neutral)"
   ]
  },
  {
   "cell_type": "code",
   "execution_count": 3,
   "id": "b51fb22c",
   "metadata": {
    "execution": {
     "iopub.execute_input": "2025-08-23T17:49:47.956522Z",
     "iopub.status.busy": "2025-08-23T17:49:47.956208Z",
     "iopub.status.idle": "2025-08-23T17:49:53.461333Z",
     "shell.execute_reply": "2025-08-23T17:49:53.460484Z"
    },
    "papermill": {
     "duration": 5.510679,
     "end_time": "2025-08-23T17:49:53.462705",
     "exception": false,
     "start_time": "2025-08-23T17:49:47.952026",
     "status": "completed"
    },
    "tags": []
   },
   "outputs": [
    {
     "name": "stderr",
     "output_type": "stream",
     "text": [
      "[nltk_data] Downloading package stopwords to /usr/share/nltk_data...\n",
      "[nltk_data]   Package stopwords is already up-to-date!\n",
      "[nltk_data] Downloading package wordnet to /usr/share/nltk_data...\n",
      "[nltk_data]   Package wordnet is already up-to-date!\n"
     ]
    },
    {
     "data": {
      "text/plain": [
       "True"
      ]
     },
     "execution_count": 3,
     "metadata": {},
     "output_type": "execute_result"
    }
   ],
   "source": [
    "# Load Important Libararies\n",
    "import pandas as pd\n",
    "import numpy as np\n",
    "import re\n",
    "import nltk\n",
    "from nltk.corpus import stopwords\n",
    "from sklearn.model_selection import train_test_split\n",
    "from sklearn.feature_extraction.text import TfidfVectorizer\n",
    "from sklearn.naive_bayes import MultinomialNB\n",
    "from sklearn.linear_model import LogisticRegression\n",
    "from sklearn.svm import SVC\n",
    "from sklearn.metrics import accuracy_score, classification_report\n",
    "import matplotlib.pyplot as plt\n",
    "import seaborn as sns\n",
    "from collections import Counter\n",
    "from nltk.stem import WordNetLemmatizer\n",
    "from wordcloud import WordCloud\n",
    "import datetime # Import the datetime module\n",
    "\n",
    "import warnings \n",
    "warnings.filterwarnings(\"ignore\")\n",
    "\n",
    "# Download necessary NLTK resources\n",
    "nltk.download('stopwords')\n",
    "nltk.download('wordnet')"
   ]
  },
  {
   "cell_type": "code",
   "execution_count": 4,
   "id": "207aee96",
   "metadata": {
    "execution": {
     "iopub.execute_input": "2025-08-23T17:49:53.471017Z",
     "iopub.status.busy": "2025-08-23T17:49:53.470480Z",
     "iopub.status.idle": "2025-08-23T17:49:53.478045Z",
     "shell.execute_reply": "2025-08-23T17:49:53.476961Z"
    },
    "papermill": {
     "duration": 0.013777,
     "end_time": "2025-08-23T17:49:53.479986",
     "exception": false,
     "start_time": "2025-08-23T17:49:53.466209",
     "status": "completed"
    },
    "tags": []
   },
   "outputs": [],
   "source": [
    "# Define a color palette\n",
    "color_palette = sns.color_palette('plasma') \n",
    "\n",
    "sns.set_palette(color_palette)"
   ]
  },
  {
   "cell_type": "code",
   "execution_count": 5,
   "id": "925cc4af",
   "metadata": {
    "execution": {
     "iopub.execute_input": "2025-08-23T17:49:53.488729Z",
     "iopub.status.busy": "2025-08-23T17:49:53.488389Z",
     "iopub.status.idle": "2025-08-23T17:49:53.493153Z",
     "shell.execute_reply": "2025-08-23T17:49:53.492119Z"
    },
    "papermill": {
     "duration": 0.011042,
     "end_time": "2025-08-23T17:49:53.494875",
     "exception": false,
     "start_time": "2025-08-23T17:49:53.483833",
     "status": "completed"
    },
    "tags": []
   },
   "outputs": [],
   "source": [
    "# Collect and Prepare Data\n",
    "# Load your dataset of social media posts"
   ]
  },
  {
   "cell_type": "code",
   "execution_count": 6,
   "id": "56b664a1",
   "metadata": {
    "execution": {
     "iopub.execute_input": "2025-08-23T17:49:53.504000Z",
     "iopub.status.busy": "2025-08-23T17:49:53.503684Z",
     "iopub.status.idle": "2025-08-23T17:49:53.670707Z",
     "shell.execute_reply": "2025-08-23T17:49:53.669751Z"
    },
    "papermill": {
     "duration": 0.17307,
     "end_time": "2025-08-23T17:49:53.672438",
     "exception": false,
     "start_time": "2025-08-23T17:49:53.499368",
     "status": "completed"
    },
    "tags": []
   },
   "outputs": [],
   "source": [
    "# Load the datasets\n",
    "df = pd.read_csv(\"/kaggle/input/telegram-channels-related-to-cryptocurrencies/Comments on Telegram channels related to cryptocurrencies along with sentiments/telegram_channels_messages14021213_with_sentiment.csv\")"
   ]
  },
  {
   "cell_type": "code",
   "execution_count": 7,
   "id": "c7312bc8",
   "metadata": {
    "execution": {
     "iopub.execute_input": "2025-08-23T17:49:53.680450Z",
     "iopub.status.busy": "2025-08-23T17:49:53.680119Z",
     "iopub.status.idle": "2025-08-23T17:49:53.909932Z",
     "shell.execute_reply": "2025-08-23T17:49:53.908759Z"
    },
    "papermill": {
     "duration": 0.235639,
     "end_time": "2025-08-23T17:49:53.911452",
     "exception": false,
     "start_time": "2025-08-23T17:49:53.675813",
     "status": "completed"
    },
    "tags": []
   },
   "outputs": [
    {
     "data": {
      "text/html": [
       "<style type=\"text/css\">\n",
       "#T_25e2c_row0_col0, #T_25e2c_row0_col5, #T_25e2c_row3_col7, #T_25e2c_row4_col2, #T_25e2c_row4_col7 {\n",
       "  background-color: #0d0887;\n",
       "  color: #f1f1f1;\n",
       "}\n",
       "#T_25e2c_row0_col2, #T_25e2c_row1_col7, #T_25e2c_row2_col5, #T_25e2c_row4_col0 {\n",
       "  background-color: #f0f921;\n",
       "  color: #000000;\n",
       "}\n",
       "#T_25e2c_row0_col7, #T_25e2c_row2_col7 {\n",
       "  background-color: #c7427c;\n",
       "  color: #f1f1f1;\n",
       "}\n",
       "#T_25e2c_row1_col0, #T_25e2c_row3_col2 {\n",
       "  background-color: #7e03a8;\n",
       "  color: #f1f1f1;\n",
       "}\n",
       "#T_25e2c_row1_col2, #T_25e2c_row3_col0 {\n",
       "  background-color: #f89540;\n",
       "  color: #000000;\n",
       "}\n",
       "#T_25e2c_row1_col5 {\n",
       "  background-color: #910ea3;\n",
       "  color: #f1f1f1;\n",
       "}\n",
       "#T_25e2c_row2_col0, #T_25e2c_row2_col2 {\n",
       "  background-color: #cc4778;\n",
       "  color: #f1f1f1;\n",
       "}\n",
       "#T_25e2c_row3_col5 {\n",
       "  background-color: #fdac33;\n",
       "  color: #000000;\n",
       "}\n",
       "#T_25e2c_row4_col5 {\n",
       "  background-color: #fa9c3c;\n",
       "  color: #000000;\n",
       "}\n",
       "</style>\n",
       "<table id=\"T_25e2c\">\n",
       "  <thead>\n",
       "    <tr>\n",
       "      <th class=\"blank level0\" >&nbsp;</th>\n",
       "      <th id=\"T_25e2c_level0_col0\" class=\"col_heading level0 col0\" >Unnamed: 0</th>\n",
       "      <th id=\"T_25e2c_level0_col1\" class=\"col_heading level0 col1\" >channel</th>\n",
       "      <th id=\"T_25e2c_level0_col2\" class=\"col_heading level0 col2\" >id</th>\n",
       "      <th id=\"T_25e2c_level0_col3\" class=\"col_heading level0 col3\" >text</th>\n",
       "      <th id=\"T_25e2c_level0_col4\" class=\"col_heading level0 col4\" >date</th>\n",
       "      <th id=\"T_25e2c_level0_col5\" class=\"col_heading level0 col5\" >views</th>\n",
       "      <th id=\"T_25e2c_level0_col6\" class=\"col_heading level0 col6\" >scores</th>\n",
       "      <th id=\"T_25e2c_level0_col7\" class=\"col_heading level0 col7\" >compound</th>\n",
       "      <th id=\"T_25e2c_level0_col8\" class=\"col_heading level0 col8\" >sentiment_type</th>\n",
       "    </tr>\n",
       "  </thead>\n",
       "  <tbody>\n",
       "    <tr>\n",
       "      <th id=\"T_25e2c_level0_row0\" class=\"row_heading level0 row0\" >0</th>\n",
       "      <td id=\"T_25e2c_row0_col0\" class=\"data row0 col0\" >0</td>\n",
       "      <td id=\"T_25e2c_row0_col1\" class=\"data row0 col1\" >binancesignals</td>\n",
       "      <td id=\"T_25e2c_row0_col2\" class=\"data row0 col2\" >1382</td>\n",
       "      <td id=\"T_25e2c_row0_col3\" class=\"data row0 col3\" >bitcoin market cap surpasses 13 trillion</td>\n",
       "      <td id=\"T_25e2c_row0_col4\" class=\"data row0 col4\" >2024-03-04 15:33:04+00:00</td>\n",
       "      <td id=\"T_25e2c_row0_col5\" class=\"data row0 col5\" >6319.000000</td>\n",
       "      <td id=\"T_25e2c_row0_col6\" class=\"data row0 col6\" >{'neg': 0.0, 'neu': 1.0, 'pos': 0.0, 'compound': 0.0}</td>\n",
       "      <td id=\"T_25e2c_row0_col7\" class=\"data row0 col7\" >0.000000</td>\n",
       "      <td id=\"T_25e2c_row0_col8\" class=\"data row0 col8\" >NEUTRAL</td>\n",
       "    </tr>\n",
       "    <tr>\n",
       "      <th id=\"T_25e2c_level0_row1\" class=\"row_heading level0 row1\" >1</th>\n",
       "      <td id=\"T_25e2c_row1_col0\" class=\"data row1 col0\" >1</td>\n",
       "      <td id=\"T_25e2c_row1_col1\" class=\"data row1 col1\" >binancesignals</td>\n",
       "      <td id=\"T_25e2c_row1_col2\" class=\"data row1 col2\" >1381</td>\n",
       "      <td id=\"T_25e2c_row1_col3\" class=\"data row1 col3\" >update atausdt long leverage cross x10 smashed second target reached 600 profit using x10 leverage ð</td>\n",
       "      <td id=\"T_25e2c_row1_col4\" class=\"data row1 col4\" >2024-03-04 10:48:51+00:00</td>\n",
       "      <td id=\"T_25e2c_row1_col5\" class=\"data row1 col5\" >6847.000000</td>\n",
       "      <td id=\"T_25e2c_row1_col6\" class=\"data row1 col6\" >{'neg': 0.0, 'neu': 0.751, 'pos': 0.249, 'compound': 0.5106}</td>\n",
       "      <td id=\"T_25e2c_row1_col7\" class=\"data row1 col7\" >0.510600</td>\n",
       "      <td id=\"T_25e2c_row1_col8\" class=\"data row1 col8\" >POSITIVE</td>\n",
       "    </tr>\n",
       "    <tr>\n",
       "      <th id=\"T_25e2c_level0_row2\" class=\"row_heading level0 row2\" >2</th>\n",
       "      <td id=\"T_25e2c_row2_col0\" class=\"data row2 col0\" >2</td>\n",
       "      <td id=\"T_25e2c_row2_col1\" class=\"data row2 col1\" >binancesignals</td>\n",
       "      <td id=\"T_25e2c_row2_col2\" class=\"data row2 col2\" >1380</td>\n",
       "      <td id=\"T_25e2c_row2_col3\" class=\"data row2 col3\" >altcoins started make move bitcoin total market cap hit 14month high altseason finally hereðð</td>\n",
       "      <td id=\"T_25e2c_row2_col4\" class=\"data row2 col4\" >2024-03-03 18:53:52+00:00</td>\n",
       "      <td id=\"T_25e2c_row2_col5\" class=\"data row2 col5\" >8066.000000</td>\n",
       "      <td id=\"T_25e2c_row2_col6\" class=\"data row2 col6\" >{'neg': 0.0, 'neu': 1.0, 'pos': 0.0, 'compound': 0.0}</td>\n",
       "      <td id=\"T_25e2c_row2_col7\" class=\"data row2 col7\" >0.000000</td>\n",
       "      <td id=\"T_25e2c_row2_col8\" class=\"data row2 col8\" >NEUTRAL</td>\n",
       "    </tr>\n",
       "    <tr>\n",
       "      <th id=\"T_25e2c_level0_row3\" class=\"row_heading level0 row3\" >3</th>\n",
       "      <td id=\"T_25e2c_row3_col0\" class=\"data row3 col0\" >3</td>\n",
       "      <td id=\"T_25e2c_row3_col1\" class=\"data row3 col1\" >binancesignals</td>\n",
       "      <td id=\"T_25e2c_row3_col2\" class=\"data row3 col2\" >1379</td>\n",
       "      <td id=\"T_25e2c_row3_col3\" class=\"data row3 col3\" >coin maticusdt timeframe 1d observation broken major horizontal level resistance went retest expecting see large movement upside one first target would 12</td>\n",
       "      <td id=\"T_25e2c_row3_col4\" class=\"data row3 col4\" >2024-03-03 16:52:07+00:00</td>\n",
       "      <td id=\"T_25e2c_row3_col5\" class=\"data row3 col5\" >7740.000000</td>\n",
       "      <td id=\"T_25e2c_row3_col6\" class=\"data row3 col6\" >{'neg': 0.129, 'neu': 0.871, 'pos': 0.0, 'compound': -0.4767}</td>\n",
       "      <td id=\"T_25e2c_row3_col7\" class=\"data row3 col7\" >-0.476700</td>\n",
       "      <td id=\"T_25e2c_row3_col8\" class=\"data row3 col8\" >NEGATIVE</td>\n",
       "    </tr>\n",
       "    <tr>\n",
       "      <th id=\"T_25e2c_level0_row4\" class=\"row_heading level0 row4\" >4</th>\n",
       "      <td id=\"T_25e2c_row4_col0\" class=\"data row4 col0\" >4</td>\n",
       "      <td id=\"T_25e2c_row4_col1\" class=\"data row4 col1\" >binancesignals</td>\n",
       "      <td id=\"T_25e2c_row4_col2\" class=\"data row4 col2\" >1378</td>\n",
       "      <td id=\"T_25e2c_row4_col3\" class=\"data row4 col3\" >coin aptusdt timeframe 1d observation broken major horizontal level resistance went liquidity grab expecting see pullback upside 15</td>\n",
       "      <td id=\"T_25e2c_row4_col4\" class=\"data row4 col4\" >2024-03-03 16:50:49+00:00</td>\n",
       "      <td id=\"T_25e2c_row4_col5\" class=\"data row4 col5\" >7668.000000</td>\n",
       "      <td id=\"T_25e2c_row4_col6\" class=\"data row4 col6\" >{'neg': 0.154, 'neu': 0.846, 'pos': 0.0, 'compound': -0.4767}</td>\n",
       "      <td id=\"T_25e2c_row4_col7\" class=\"data row4 col7\" >-0.476700</td>\n",
       "      <td id=\"T_25e2c_row4_col8\" class=\"data row4 col8\" >NEGATIVE</td>\n",
       "    </tr>\n",
       "  </tbody>\n",
       "</table>\n"
      ],
      "text/plain": [
       "<pandas.io.formats.style.Styler at 0x7cdf12b41ad0>"
      ]
     },
     "execution_count": 7,
     "metadata": {},
     "output_type": "execute_result"
    }
   ],
   "source": [
    "df.head().style.background_gradient(cmap='plasma')"
   ]
  },
  {
   "cell_type": "code",
   "execution_count": 8,
   "id": "2b2d7bb6",
   "metadata": {
    "execution": {
     "iopub.execute_input": "2025-08-23T17:49:53.920466Z",
     "iopub.status.busy": "2025-08-23T17:49:53.919970Z",
     "iopub.status.idle": "2025-08-23T17:49:53.950646Z",
     "shell.execute_reply": "2025-08-23T17:49:53.949714Z"
    },
    "papermill": {
     "duration": 0.037078,
     "end_time": "2025-08-23T17:49:53.952450",
     "exception": false,
     "start_time": "2025-08-23T17:49:53.915372",
     "status": "completed"
    },
    "tags": []
   },
   "outputs": [
    {
     "data": {
      "text/html": [
       "<style type=\"text/css\">\n",
       "#T_14e6b_row0_col0, #T_14e6b_row0_col1, #T_14e6b_row0_col3, #T_14e6b_row7_col0, #T_14e6b_row7_col2 {\n",
       "  background-color: #d9d9d9;\n",
       "  color: #000000;\n",
       "}\n",
       "#T_14e6b_row0_col2, #T_14e6b_row1_col2, #T_14e6b_row1_col3, #T_14e6b_row2_col2, #T_14e6b_row2_col3, #T_14e6b_row3_col0, #T_14e6b_row3_col1, #T_14e6b_row3_col2, #T_14e6b_row3_col3, #T_14e6b_row4_col2, #T_14e6b_row4_col3, #T_14e6b_row5_col2, #T_14e6b_row5_col3, #T_14e6b_row6_col3, #T_14e6b_row7_col3 {\n",
       "  background-color: #3182bd;\n",
       "  color: #f1f1f1;\n",
       "}\n",
       "#T_14e6b_row1_col0, #T_14e6b_row5_col0 {\n",
       "  background-color: #a1d99b;\n",
       "  color: #000000;\n",
       "}\n",
       "#T_14e6b_row1_col1 {\n",
       "  background-color: #fdd0a2;\n",
       "  color: #000000;\n",
       "}\n",
       "#T_14e6b_row2_col0 {\n",
       "  background-color: #fd8d3c;\n",
       "  color: #f1f1f1;\n",
       "}\n",
       "#T_14e6b_row2_col1, #T_14e6b_row4_col0 {\n",
       "  background-color: #e6550d;\n",
       "  color: #f1f1f1;\n",
       "}\n",
       "#T_14e6b_row4_col1 {\n",
       "  background-color: #c6dbef;\n",
       "  color: #000000;\n",
       "}\n",
       "#T_14e6b_row5_col1 {\n",
       "  background-color: #31a354;\n",
       "  color: #f1f1f1;\n",
       "}\n",
       "#T_14e6b_row6_col0 {\n",
       "  background-color: #dadaeb;\n",
       "  color: #000000;\n",
       "}\n",
       "#T_14e6b_row6_col1 {\n",
       "  background-color: #c7e9c0;\n",
       "  color: #000000;\n",
       "}\n",
       "#T_14e6b_row6_col2 {\n",
       "  background-color: #6baed6;\n",
       "  color: #f1f1f1;\n",
       "}\n",
       "#T_14e6b_row7_col1 {\n",
       "  background-color: #bcbddc;\n",
       "  color: #000000;\n",
       "}\n",
       "</style>\n",
       "<table id=\"T_14e6b\">\n",
       "  <thead>\n",
       "    <tr>\n",
       "      <th class=\"blank level0\" >&nbsp;</th>\n",
       "      <th id=\"T_14e6b_level0_col0\" class=\"col_heading level0 col0\" >Unnamed: 0</th>\n",
       "      <th id=\"T_14e6b_level0_col1\" class=\"col_heading level0 col1\" >id</th>\n",
       "      <th id=\"T_14e6b_level0_col2\" class=\"col_heading level0 col2\" >views</th>\n",
       "      <th id=\"T_14e6b_level0_col3\" class=\"col_heading level0 col3\" >compound</th>\n",
       "    </tr>\n",
       "  </thead>\n",
       "  <tbody>\n",
       "    <tr>\n",
       "      <th id=\"T_14e6b_level0_row0\" class=\"row_heading level0 row0\" >count</th>\n",
       "      <td id=\"T_14e6b_row0_col0\" class=\"data row0 col0\" >14712.000000</td>\n",
       "      <td id=\"T_14e6b_row0_col1\" class=\"data row0 col1\" >14712.000000</td>\n",
       "      <td id=\"T_14e6b_row0_col2\" class=\"data row0 col2\" >14712.000000</td>\n",
       "      <td id=\"T_14e6b_row0_col3\" class=\"data row0 col3\" >14712.000000</td>\n",
       "    </tr>\n",
       "    <tr>\n",
       "      <th id=\"T_14e6b_level0_row1\" class=\"row_heading level0 row1\" >mean</th>\n",
       "      <td id=\"T_14e6b_row1_col0\" class=\"data row1 col0\" >7695.078915</td>\n",
       "      <td id=\"T_14e6b_row1_col1\" class=\"data row1 col1\" >5731.983415</td>\n",
       "      <td id=\"T_14e6b_row1_col2\" class=\"data row1 col2\" >14737.631525</td>\n",
       "      <td id=\"T_14e6b_row1_col3\" class=\"data row1 col3\" >0.323880</td>\n",
       "    </tr>\n",
       "    <tr>\n",
       "      <th id=\"T_14e6b_level0_row2\" class=\"row_heading level0 row2\" >std</th>\n",
       "      <td id=\"T_14e6b_row2_col0\" class=\"data row2 col0\" >4430.002318</td>\n",
       "      <td id=\"T_14e6b_row2_col1\" class=\"data row2 col1\" >3185.394956</td>\n",
       "      <td id=\"T_14e6b_row2_col2\" class=\"data row2 col2\" >12069.131738</td>\n",
       "      <td id=\"T_14e6b_row2_col3\" class=\"data row2 col3\" >0.468967</td>\n",
       "    </tr>\n",
       "    <tr>\n",
       "      <th id=\"T_14e6b_level0_row3\" class=\"row_heading level0 row3\" >min</th>\n",
       "      <td id=\"T_14e6b_row3_col0\" class=\"data row3 col0\" >0.000000</td>\n",
       "      <td id=\"T_14e6b_row3_col1\" class=\"data row3 col1\" >7.000000</td>\n",
       "      <td id=\"T_14e6b_row3_col2\" class=\"data row3 col2\" >39.000000</td>\n",
       "      <td id=\"T_14e6b_row3_col3\" class=\"data row3 col3\" >-0.956500</td>\n",
       "    </tr>\n",
       "    <tr>\n",
       "      <th id=\"T_14e6b_level0_row4\" class=\"row_heading level0 row4\" >25%</th>\n",
       "      <td id=\"T_14e6b_row4_col0\" class=\"data row4 col0\" >3825.750000</td>\n",
       "      <td id=\"T_14e6b_row4_col1\" class=\"data row4 col1\" >2620.500000</td>\n",
       "      <td id=\"T_14e6b_row4_col2\" class=\"data row4 col2\" >7513.750000</td>\n",
       "      <td id=\"T_14e6b_row4_col3\" class=\"data row4 col3\" >0.000000</td>\n",
       "    </tr>\n",
       "    <tr>\n",
       "      <th id=\"T_14e6b_level0_row5\" class=\"row_heading level0 row5\" >50%</th>\n",
       "      <td id=\"T_14e6b_row5_col0\" class=\"data row5 col0\" >7702.500000</td>\n",
       "      <td id=\"T_14e6b_row5_col1\" class=\"data row5 col1\" >6559.000000</td>\n",
       "      <td id=\"T_14e6b_row5_col2\" class=\"data row5 col2\" >11528.000000</td>\n",
       "      <td id=\"T_14e6b_row5_col3\" class=\"data row5 col3\" >0.440400</td>\n",
       "    </tr>\n",
       "    <tr>\n",
       "      <th id=\"T_14e6b_level0_row6\" class=\"row_heading level0 row6\" >75%</th>\n",
       "      <td id=\"T_14e6b_row6_col0\" class=\"data row6 col0\" >11527.250000</td>\n",
       "      <td id=\"T_14e6b_row6_col1\" class=\"data row6 col1\" >8412.000000</td>\n",
       "      <td id=\"T_14e6b_row6_col2\" class=\"data row6 col2\" >21654.250000</td>\n",
       "      <td id=\"T_14e6b_row6_col3\" class=\"data row6 col3\" >0.765000</td>\n",
       "    </tr>\n",
       "    <tr>\n",
       "      <th id=\"T_14e6b_level0_row7\" class=\"row_heading level0 row7\" >max</th>\n",
       "      <td id=\"T_14e6b_row7_col0\" class=\"data row7 col0\" >15358.000000</td>\n",
       "      <td id=\"T_14e6b_row7_col1\" class=\"data row7 col1\" >10554.000000</td>\n",
       "      <td id=\"T_14e6b_row7_col2\" class=\"data row7 col2\" >375298.000000</td>\n",
       "      <td id=\"T_14e6b_row7_col3\" class=\"data row7 col3\" >0.995800</td>\n",
       "    </tr>\n",
       "  </tbody>\n",
       "</table>\n"
      ],
      "text/plain": [
       "<pandas.io.formats.style.Styler at 0x7cdf33fb9590>"
      ]
     },
     "execution_count": 8,
     "metadata": {},
     "output_type": "execute_result"
    }
   ],
   "source": [
    "df.describe().style.background_gradient(cmap='tab20c')"
   ]
  },
  {
   "cell_type": "code",
   "execution_count": 9,
   "id": "80d2bc76",
   "metadata": {
    "execution": {
     "iopub.execute_input": "2025-08-23T17:49:53.961709Z",
     "iopub.status.busy": "2025-08-23T17:49:53.961371Z",
     "iopub.status.idle": "2025-08-23T17:49:55.964144Z",
     "shell.execute_reply": "2025-08-23T17:49:55.963064Z"
    },
    "papermill": {
     "duration": 2.010022,
     "end_time": "2025-08-23T17:49:55.966348",
     "exception": false,
     "start_time": "2025-08-23T17:49:53.956326",
     "status": "completed"
    },
    "tags": []
   },
   "outputs": [
    {
     "data": {
      "image/png": "[encoded data removed]",
      "text/plain": [
       "<Figure size 1200x700 with 7 Axes>"
      ]
     },
     "metadata": {},
     "output_type": "display_data"
    }
   ],
   "source": [
    "import missingno as msno\n",
    "\n",
    "fig, ax = plt.subplots(2,2,figsize=(12,7))\n",
    "axs = np.ravel(ax)\n",
    "msno.matrix(df,  fontsize=9, color=(0.25,0,0.5),ax=axs[0]);\n",
    "msno.bar(df, fontsize=8, color=(0.25,0,0.5), ax=axs[1]);\n",
    "msno.heatmap(df,fontsize=8,ax=axs[2]);\n",
    "msno.dendrogram(df,fontsize=8,ax=axs[3], orientation='top')\n",
    "\n",
    "fig.suptitle('Missing Values Analysis', y=1.01, fontsize=15)\n",
    "\n",
    "# Save the plot\n",
    "plt.savefig('missing_values_analysis.png')\n",
    "\n",
    "# Show the plot\n",
    "plt.show()"
   ]
  },
  {
   "cell_type": "code",
   "execution_count": null,
   "id": "56a52a71",
   "metadata": {
    "papermill": {
     "duration": 0.004866,
     "end_time": "2025-08-23T17:49:55.976406",
     "exception": false,
     "start_time": "2025-08-23T17:49:55.971540",
     "status": "completed"
    },
    "tags": []
   },
   "outputs": [],
   "source": []
  }
 ],
 "metadata": {
  "kaggle": {
   "accelerator": "none",
   "dataSources": [
    {
     "datasetId": 6284745,
     "sourceId": 10175190,
     "sourceType": "datasetVersion"
    },
    {
     "sourceId": 117939712,
     "sourceType": "kernelVersion"
    },
    {
     "sourceId": 256596611,
     "sourceType": "kernelVersion"
    },
    {
     "sourceId": 257609611,
     "sourceType": "kernelVersion"
    }
   ],
   "dockerImageVersionId": 31089,
   "isGpuEnabled": false,
   "isInternetEnabled": true,
   "language": "python",
   "sourceType": "notebook"
  },
  "kernelspec": {
   "display_name": "Python 3",
   "language": "python",
   "name": "python3"
  },
  "language_info": {
   "codemirror_mode": {
    "name": "ipython",
    "version": 3
   },
   "file_extension": ".py",
   "mimetype": "text/x-python",
   "name": "python",
   "nbconvert_exporter": "python",
   "pygments_lexer": "ipython3",
   "version": "3.11.13"
  },
  "papermill": {
   "default_parameters": {},
   "duration": 14.739301,
   "end_time": "2025-08-23T17:49:56.803484",
   "environment_variables": {},
   "exception": null,
   "input_path": "__notebook__.ipynb",
   "output_path": "__notebook__.ipynb",
   "parameters": {},
   "start_time": "2025-08-23T17:49:42.064183",
   "version": "2.6.0"
  }
 },
 "nbformat": 4,
 "nbformat_minor": 5
}
