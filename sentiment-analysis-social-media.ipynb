{
 "cells": [
  {
   "cell_type": "code",
   "execution_count": 1,
   "id": "1e4cb81c",
   "metadata": {
    "_cell_guid": "b1076dfc-b9ad-4769-8c92-a6c4dae69d19",
    "_uuid": "8f2839f25d086af736a60e9eeb907d3b93b6e0e5",
    "execution": {
     "iopub.execute_input": "2025-08-24T17:07:15.010526Z",
     "iopub.status.busy": "2025-08-24T17:07:15.009546Z",
     "iopub.status.idle": "2025-08-24T17:07:15.017112Z",
     "shell.execute_reply": "2025-08-24T17:07:15.015771Z"
    },
    "papermill": {
     "duration": 0.017222,
     "end_time": "2025-08-24T17:07:15.019107",
     "exception": false,
     "start_time": "2025-08-24T17:07:15.001885",
     "status": "completed"
    },
    "tags": []
   },
   "outputs": [],
   "source": [
    "# Sentiment Analys\n",
    "# Doing the sentiment analysis "
   ]
  },
  {
   "cell_type": "markdown",
   "id": "f52bdc6c",
   "metadata": {
    "papermill": {
     "duration": 0.004557,
     "end_time": "2025-08-24T17:07:15.028945",
     "exception": false,
     "start_time": "2025-08-24T17:07:15.024388",
     "status": "completed"
    },
    "tags": []
   },
   "source": [
    "By Analyze the posts of social media to determine the sentiments of the people (Positive, Negative, Neutral). By using the technique of NLP (Natural Language Processing) to prprocess the text and train the model. Visualizing the sentiments by using the topic."
   ]
  },
  {
   "cell_type": "markdown",
   "id": "0ee7c2d8",
   "metadata": {
    "papermill": {
     "duration": 0.004368,
     "end_time": "2025-08-24T17:07:15.038350",
     "exception": false,
     "start_time": "2025-08-24T17:07:15.033982",
     "status": "completed"
    },
    "tags": []
   },
   "source": [
    "**Introduction**"
   ]
  },
  {
   "cell_type": "markdown",
   "id": "8c125346",
   "metadata": {
    "papermill": {
     "duration": 0.004259,
     "end_time": "2025-08-24T17:07:15.047171",
     "exception": false,
     "start_time": "2025-08-24T17:07:15.042912",
     "status": "completed"
    },
    "tags": []
   },
   "source": [
    "This project dives into sentiment analysis, we'll use the social media posts to figure out if people are generally feeling postitive, negative , or neutral. \n",
    "\n",
    "**Steps:**\n",
    "1. Cleaning the data\n",
    "2. Building the model\n",
    "3. Improve the model\n",
    "\n",
    "we'll use different techniques and visualizations to understand sentiment trends and hopefully build a tool that can automatically analyze public opinion."
   ]
  },
  {
   "cell_type": "code",
   "execution_count": 2,
   "id": "11aa0245",
   "metadata": {
    "execution": {
     "iopub.execute_input": "2025-08-24T17:07:15.057439Z",
     "iopub.status.busy": "2025-08-24T17:07:15.057113Z",
     "iopub.status.idle": "2025-08-24T17:07:15.062092Z",
     "shell.execute_reply": "2025-08-24T17:07:15.060985Z"
    },
    "papermill": {
     "duration": 0.012214,
     "end_time": "2025-08-24T17:07:15.063854",
     "exception": false,
     "start_time": "2025-08-24T17:07:15.051640",
     "status": "completed"
    },
    "tags": []
   },
   "outputs": [],
   "source": [
    "# Project Steps that we have to take first:\n",
    "# 1. Define the problem: Understand the type of problem(classification, regression, etc.)\n",
    "# 2. Collect and Prepare Data: Obtain the dataset, handle missing values, and preprocess data.\n",
    "# 3. Exporatory Data Analysisi (EDS): Visualize data to understand patterns and correlations.\n",
    "# 4. Feature Engineering: Select and create relevant features.\n",
    "# 5. Split the Data: Divide the dataset into training and testing sets.\n",
    "# 6. Choose a model: Select a suitable machine learning algorithm\n",
    "# 7. Train the Model: Train the model using the training set.\n",
    "# 8. Evaluate the Model: Use appropriate metrics to evalueate the model on the test set.\n",
    "# 9. Improve the Model: Tune hyperparameters, try differenct algorithms, or enhance featrues\n",
    "# 10. Deploy the Model (optional): Create an application or API to make predictions using the trained model."
   ]
  },
  {
   "cell_type": "markdown",
   "id": "a94ef247",
   "metadata": {
    "papermill": {
     "duration": 0.004357,
     "end_time": "2025-08-24T17:07:15.072846",
     "exception": false,
     "start_time": "2025-08-24T17:07:15.068489",
     "status": "completed"
    },
    "tags": []
   },
   "source": [
    "**1. Define the Problem**\n",
    "\n",
    "The problem is to classify the sentiment of social media posts into three categories: positive, negative, or neutral. This is a multi-class classification problem."
   ]
  },
  {
   "cell_type": "markdown",
   "id": "b0c07604",
   "metadata": {
    "papermill": {
     "duration": 0.004059,
     "end_time": "2025-08-24T17:07:15.081371",
     "exception": false,
     "start_time": "2025-08-24T17:07:15.077312",
     "status": "completed"
    },
    "tags": []
   },
   "source": [
    "****Objective****\n",
    "Figure out what you're trying to do. In this case, It's determining if social media posts are generally positive, negative, or neutral in tone."
   ]
  },
  {
   "cell_type": "markdown",
   "id": "90bcf118",
   "metadata": {
    "papermill": {
     "duration": 0.00529,
     "end_time": "2025-08-24T17:07:15.091052",
     "exception": false,
     "start_time": "2025-08-24T17:07:15.085762",
     "status": "completed"
    },
    "tags": []
   },
   "source": [
    "*****Type:*****\n",
    "\n",
    "Multi-class classification (Positive, Negative, Neutral)"
   ]
  },
  {
   "cell_type": "code",
   "execution_count": 3,
   "id": "6d197042",
   "metadata": {
    "execution": {
     "iopub.execute_input": "2025-08-24T17:07:15.102274Z",
     "iopub.status.busy": "2025-08-24T17:07:15.101887Z",
     "iopub.status.idle": "2025-08-24T17:07:21.488372Z",
     "shell.execute_reply": "2025-08-24T17:07:21.486928Z"
    },
    "papermill": {
     "duration": 6.394572,
     "end_time": "2025-08-24T17:07:21.490295",
     "exception": false,
     "start_time": "2025-08-24T17:07:15.095723",
     "status": "completed"
    },
    "tags": []
   },
   "outputs": [
    {
     "name": "stderr",
     "output_type": "stream",
     "text": [
      "[nltk_data] Downloading package stopwords to /usr/share/nltk_data...\n",
      "[nltk_data]   Package stopwords is already up-to-date!\n",
      "[nltk_data] Downloading package wordnet to /usr/share/nltk_data...\n",
      "[nltk_data]   Package wordnet is already up-to-date!\n"
     ]
    },
    {
     "data": {
      "text/plain": [
       "True"
      ]
     },
     "execution_count": 3,
     "metadata": {},
     "output_type": "execute_result"
    }
   ],
   "source": [
    "# Load Important Libararies\n",
    "import pandas as pd\n",
    "import numpy as np\n",
    "import re\n",
    "import nltk\n",
    "from nltk.corpus import stopwords\n",
    "from sklearn.model_selection import train_test_split\n",
    "from sklearn.feature_extraction.text import TfidfVectorizer\n",
    "from sklearn.naive_bayes import MultinomialNB\n",
    "from sklearn.linear_model import LogisticRegression\n",
    "from sklearn.svm import SVC\n",
    "from sklearn.metrics import accuracy_score, classification_report\n",
    "import matplotlib.pyplot as plt\n",
    "import seaborn as sns\n",
    "from collections import Counter\n",
    "from nltk.stem import WordNetLemmatizer\n",
    "from wordcloud import WordCloud\n",
    "import datetime # Import the datetime module\n",
    "\n",
    "import warnings \n",
    "warnings.filterwarnings(\"ignore\")\n",
    "\n",
    "# Download necessary NLTK resources\n",
    "nltk.download('stopwords')\n",
    "nltk.download('wordnet')"
   ]
  },
  {
   "cell_type": "code",
   "execution_count": 4,
   "id": "1797cc98",
   "metadata": {
    "execution": {
     "iopub.execute_input": "2025-08-24T17:07:21.502127Z",
     "iopub.status.busy": "2025-08-24T17:07:21.501663Z",
     "iopub.status.idle": "2025-08-24T17:07:21.509812Z",
     "shell.execute_reply": "2025-08-24T17:07:21.508649Z"
    },
    "papermill": {
     "duration": 0.016009,
     "end_time": "2025-08-24T17:07:21.511931",
     "exception": false,
     "start_time": "2025-08-24T17:07:21.495922",
     "status": "completed"
    },
    "tags": []
   },
   "outputs": [],
   "source": [
    "# Define a color palette\n",
    "color_palette = sns.color_palette('plasma') \n",
    "\n",
    "sns.set_palette(color_palette)"
   ]
  },
  {
   "cell_type": "code",
   "execution_count": 5,
   "id": "ab5b59a2",
   "metadata": {
    "execution": {
     "iopub.execute_input": "2025-08-24T17:07:21.523561Z",
     "iopub.status.busy": "2025-08-24T17:07:21.523234Z",
     "iopub.status.idle": "2025-08-24T17:07:21.527375Z",
     "shell.execute_reply": "2025-08-24T17:07:21.526456Z"
    },
    "papermill": {
     "duration": 0.012068,
     "end_time": "2025-08-24T17:07:21.528913",
     "exception": false,
     "start_time": "2025-08-24T17:07:21.516845",
     "status": "completed"
    },
    "tags": []
   },
   "outputs": [],
   "source": [
    "# Collect and Prepare Data\n",
    "# Load your dataset of social media posts"
   ]
  },
  {
   "cell_type": "code",
   "execution_count": 6,
   "id": "e5fc9784",
   "metadata": {
    "execution": {
     "iopub.execute_input": "2025-08-24T17:07:21.541538Z",
     "iopub.status.busy": "2025-08-24T17:07:21.540104Z",
     "iopub.status.idle": "2025-08-24T17:07:21.753111Z",
     "shell.execute_reply": "2025-08-24T17:07:21.751953Z"
    },
    "papermill": {
     "duration": 0.220708,
     "end_time": "2025-08-24T17:07:21.754767",
     "exception": false,
     "start_time": "2025-08-24T17:07:21.534059",
     "status": "completed"
    },
    "tags": []
   },
   "outputs": [],
   "source": [
    "# Load the datasets\n",
    "df = pd.read_csv(\"/kaggle/input/telegram-channels-related-to-cryptocurrencies/Comments on Telegram channels related to cryptocurrencies along with sentiments/telegram_channels_messages14021213_with_sentiment.csv\")"
   ]
  },
  {
   "cell_type": "code",
   "execution_count": 7,
   "id": "017ef9b7",
   "metadata": {
    "execution": {
     "iopub.execute_input": "2025-08-24T17:07:21.765480Z",
     "iopub.status.busy": "2025-08-24T17:07:21.765170Z",
     "iopub.status.idle": "2025-08-24T17:07:22.020337Z",
     "shell.execute_reply": "2025-08-24T17:07:22.018007Z"
    },
    "papermill": {
     "duration": 0.262796,
     "end_time": "2025-08-24T17:07:22.022397",
     "exception": false,
     "start_time": "2025-08-24T17:07:21.759601",
     "status": "completed"
    },
    "tags": []
   },
   "outputs": [
    {
     "data": {
      "text/html": [
       "<style type=\"text/css\">\n",
       "#T_417b8_row0_col0, #T_417b8_row0_col5, #T_417b8_row3_col7, #T_417b8_row4_col2, #T_417b8_row4_col7 {\n",
       "  background-color: #0d0887;\n",
       "  color: #f1f1f1;\n",
       "}\n",
       "#T_417b8_row0_col2, #T_417b8_row1_col7, #T_417b8_row2_col5, #T_417b8_row4_col0 {\n",
       "  background-color: #f0f921;\n",
       "  color: #000000;\n",
       "}\n",
       "#T_417b8_row0_col7, #T_417b8_row2_col7 {\n",
       "  background-color: #c7427c;\n",
       "  color: #f1f1f1;\n",
       "}\n",
       "#T_417b8_row1_col0, #T_417b8_row3_col2 {\n",
       "  background-color: #7e03a8;\n",
       "  color: #f1f1f1;\n",
       "}\n",
       "#T_417b8_row1_col2, #T_417b8_row3_col0 {\n",
       "  background-color: #f89540;\n",
       "  color: #000000;\n",
       "}\n",
       "#T_417b8_row1_col5 {\n",
       "  background-color: #910ea3;\n",
       "  color: #f1f1f1;\n",
       "}\n",
       "#T_417b8_row2_col0, #T_417b8_row2_col2 {\n",
       "  background-color: #cc4778;\n",
       "  color: #f1f1f1;\n",
       "}\n",
       "#T_417b8_row3_col5 {\n",
       "  background-color: #fdac33;\n",
       "  color: #000000;\n",
       "}\n",
       "#T_417b8_row4_col5 {\n",
       "  background-color: #fa9c3c;\n",
       "  color: #000000;\n",
       "}\n",
       "</style>\n",
       "<table id=\"T_417b8\">\n",
       "  <thead>\n",
       "    <tr>\n",
       "      <th class=\"blank level0\" >&nbsp;</th>\n",
       "      <th id=\"T_417b8_level0_col0\" class=\"col_heading level0 col0\" >Unnamed: 0</th>\n",
       "      <th id=\"T_417b8_level0_col1\" class=\"col_heading level0 col1\" >channel</th>\n",
       "      <th id=\"T_417b8_level0_col2\" class=\"col_heading level0 col2\" >id</th>\n",
       "      <th id=\"T_417b8_level0_col3\" class=\"col_heading level0 col3\" >text</th>\n",
       "      <th id=\"T_417b8_level0_col4\" class=\"col_heading level0 col4\" >date</th>\n",
       "      <th id=\"T_417b8_level0_col5\" class=\"col_heading level0 col5\" >views</th>\n",
       "      <th id=\"T_417b8_level0_col6\" class=\"col_heading level0 col6\" >scores</th>\n",
       "      <th id=\"T_417b8_level0_col7\" class=\"col_heading level0 col7\" >compound</th>\n",
       "      <th id=\"T_417b8_level0_col8\" class=\"col_heading level0 col8\" >sentiment_type</th>\n",
       "    </tr>\n",
       "  </thead>\n",
       "  <tbody>\n",
       "    <tr>\n",
       "      <th id=\"T_417b8_level0_row0\" class=\"row_heading level0 row0\" >0</th>\n",
       "      <td id=\"T_417b8_row0_col0\" class=\"data row0 col0\" >0</td>\n",
       "      <td id=\"T_417b8_row0_col1\" class=\"data row0 col1\" >binancesignals</td>\n",
       "      <td id=\"T_417b8_row0_col2\" class=\"data row0 col2\" >1382</td>\n",
       "      <td id=\"T_417b8_row0_col3\" class=\"data row0 col3\" >bitcoin market cap surpasses 13 trillion</td>\n",
       "      <td id=\"T_417b8_row0_col4\" class=\"data row0 col4\" >2024-03-04 15:33:04+00:00</td>\n",
       "      <td id=\"T_417b8_row0_col5\" class=\"data row0 col5\" >6319.000000</td>\n",
       "      <td id=\"T_417b8_row0_col6\" class=\"data row0 col6\" >{'neg': 0.0, 'neu': 1.0, 'pos': 0.0, 'compound': 0.0}</td>\n",
       "      <td id=\"T_417b8_row0_col7\" class=\"data row0 col7\" >0.000000</td>\n",
       "      <td id=\"T_417b8_row0_col8\" class=\"data row0 col8\" >NEUTRAL</td>\n",
       "    </tr>\n",
       "    <tr>\n",
       "      <th id=\"T_417b8_level0_row1\" class=\"row_heading level0 row1\" >1</th>\n",
       "      <td id=\"T_417b8_row1_col0\" class=\"data row1 col0\" >1</td>\n",
       "      <td id=\"T_417b8_row1_col1\" class=\"data row1 col1\" >binancesignals</td>\n",
       "      <td id=\"T_417b8_row1_col2\" class=\"data row1 col2\" >1381</td>\n",
       "      <td id=\"T_417b8_row1_col3\" class=\"data row1 col3\" >update atausdt long leverage cross x10 smashed second target reached 600 profit using x10 leverage ð</td>\n",
       "      <td id=\"T_417b8_row1_col4\" class=\"data row1 col4\" >2024-03-04 10:48:51+00:00</td>\n",
       "      <td id=\"T_417b8_row1_col5\" class=\"data row1 col5\" >6847.000000</td>\n",
       "      <td id=\"T_417b8_row1_col6\" class=\"data row1 col6\" >{'neg': 0.0, 'neu': 0.751, 'pos': 0.249, 'compound': 0.5106}</td>\n",
       "      <td id=\"T_417b8_row1_col7\" class=\"data row1 col7\" >0.510600</td>\n",
       "      <td id=\"T_417b8_row1_col8\" class=\"data row1 col8\" >POSITIVE</td>\n",
       "    </tr>\n",
       "    <tr>\n",
       "      <th id=\"T_417b8_level0_row2\" class=\"row_heading level0 row2\" >2</th>\n",
       "      <td id=\"T_417b8_row2_col0\" class=\"data row2 col0\" >2</td>\n",
       "      <td id=\"T_417b8_row2_col1\" class=\"data row2 col1\" >binancesignals</td>\n",
       "      <td id=\"T_417b8_row2_col2\" class=\"data row2 col2\" >1380</td>\n",
       "      <td id=\"T_417b8_row2_col3\" class=\"data row2 col3\" >altcoins started make move bitcoin total market cap hit 14month high altseason finally hereðð</td>\n",
       "      <td id=\"T_417b8_row2_col4\" class=\"data row2 col4\" >2024-03-03 18:53:52+00:00</td>\n",
       "      <td id=\"T_417b8_row2_col5\" class=\"data row2 col5\" >8066.000000</td>\n",
       "      <td id=\"T_417b8_row2_col6\" class=\"data row2 col6\" >{'neg': 0.0, 'neu': 1.0, 'pos': 0.0, 'compound': 0.0}</td>\n",
       "      <td id=\"T_417b8_row2_col7\" class=\"data row2 col7\" >0.000000</td>\n",
       "      <td id=\"T_417b8_row2_col8\" class=\"data row2 col8\" >NEUTRAL</td>\n",
       "    </tr>\n",
       "    <tr>\n",
       "      <th id=\"T_417b8_level0_row3\" class=\"row_heading level0 row3\" >3</th>\n",
       "      <td id=\"T_417b8_row3_col0\" class=\"data row3 col0\" >3</td>\n",
       "      <td id=\"T_417b8_row3_col1\" class=\"data row3 col1\" >binancesignals</td>\n",
       "      <td id=\"T_417b8_row3_col2\" class=\"data row3 col2\" >1379</td>\n",
       "      <td id=\"T_417b8_row3_col3\" class=\"data row3 col3\" >coin maticusdt timeframe 1d observation broken major horizontal level resistance went retest expecting see large movement upside one first target would 12</td>\n",
       "      <td id=\"T_417b8_row3_col4\" class=\"data row3 col4\" >2024-03-03 16:52:07+00:00</td>\n",
       "      <td id=\"T_417b8_row3_col5\" class=\"data row3 col5\" >7740.000000</td>\n",
       "      <td id=\"T_417b8_row3_col6\" class=\"data row3 col6\" >{'neg': 0.129, 'neu': 0.871, 'pos': 0.0, 'compound': -0.4767}</td>\n",
       "      <td id=\"T_417b8_row3_col7\" class=\"data row3 col7\" >-0.476700</td>\n",
       "      <td id=\"T_417b8_row3_col8\" class=\"data row3 col8\" >NEGATIVE</td>\n",
       "    </tr>\n",
       "    <tr>\n",
       "      <th id=\"T_417b8_level0_row4\" class=\"row_heading level0 row4\" >4</th>\n",
       "      <td id=\"T_417b8_row4_col0\" class=\"data row4 col0\" >4</td>\n",
       "      <td id=\"T_417b8_row4_col1\" class=\"data row4 col1\" >binancesignals</td>\n",
       "      <td id=\"T_417b8_row4_col2\" class=\"data row4 col2\" >1378</td>\n",
       "      <td id=\"T_417b8_row4_col3\" class=\"data row4 col3\" >coin aptusdt timeframe 1d observation broken major horizontal level resistance went liquidity grab expecting see pullback upside 15</td>\n",
       "      <td id=\"T_417b8_row4_col4\" class=\"data row4 col4\" >2024-03-03 16:50:49+00:00</td>\n",
       "      <td id=\"T_417b8_row4_col5\" class=\"data row4 col5\" >7668.000000</td>\n",
       "      <td id=\"T_417b8_row4_col6\" class=\"data row4 col6\" >{'neg': 0.154, 'neu': 0.846, 'pos': 0.0, 'compound': -0.4767}</td>\n",
       "      <td id=\"T_417b8_row4_col7\" class=\"data row4 col7\" >-0.476700</td>\n",
       "      <td id=\"T_417b8_row4_col8\" class=\"data row4 col8\" >NEGATIVE</td>\n",
       "    </tr>\n",
       "  </tbody>\n",
       "</table>\n"
      ],
      "text/plain": [
       "<pandas.io.formats.style.Styler at 0x7b65e8135e10>"
      ]
     },
     "execution_count": 7,
     "metadata": {},
     "output_type": "execute_result"
    }
   ],
   "source": [
    "df.head().style.background_gradient(cmap='plasma')"
   ]
  },
  {
   "cell_type": "code",
   "execution_count": 8,
   "id": "0c3873a1",
   "metadata": {
    "execution": {
     "iopub.execute_input": "2025-08-24T17:07:22.034914Z",
     "iopub.status.busy": "2025-08-24T17:07:22.034348Z",
     "iopub.status.idle": "2025-08-24T17:07:22.074127Z",
     "shell.execute_reply": "2025-08-24T17:07:22.072345Z"
    },
    "papermill": {
     "duration": 0.048253,
     "end_time": "2025-08-24T17:07:22.076126",
     "exception": false,
     "start_time": "2025-08-24T17:07:22.027873",
     "status": "completed"
    },
    "tags": []
   },
   "outputs": [
    {
     "data": {
      "text/html": [
       "<style type=\"text/css\">\n",
       "#T_459e4_row0_col0, #T_459e4_row0_col1, #T_459e4_row0_col3, #T_459e4_row7_col0, #T_459e4_row7_col2 {\n",
       "  background-color: #d9d9d9;\n",
       "  color: #000000;\n",
       "}\n",
       "#T_459e4_row0_col2, #T_459e4_row1_col2, #T_459e4_row1_col3, #T_459e4_row2_col2, #T_459e4_row2_col3, #T_459e4_row3_col0, #T_459e4_row3_col1, #T_459e4_row3_col2, #T_459e4_row3_col3, #T_459e4_row4_col2, #T_459e4_row4_col3, #T_459e4_row5_col2, #T_459e4_row5_col3, #T_459e4_row6_col3, #T_459e4_row7_col3 {\n",
       "  background-color: #3182bd;\n",
       "  color: #f1f1f1;\n",
       "}\n",
       "#T_459e4_row1_col0, #T_459e4_row5_col0 {\n",
       "  background-color: #a1d99b;\n",
       "  color: #000000;\n",
       "}\n",
       "#T_459e4_row1_col1 {\n",
       "  background-color: #fdd0a2;\n",
       "  color: #000000;\n",
       "}\n",
       "#T_459e4_row2_col0 {\n",
       "  background-color: #fd8d3c;\n",
       "  color: #f1f1f1;\n",
       "}\n",
       "#T_459e4_row2_col1, #T_459e4_row4_col0 {\n",
       "  background-color: #e6550d;\n",
       "  color: #f1f1f1;\n",
       "}\n",
       "#T_459e4_row4_col1 {\n",
       "  background-color: #c6dbef;\n",
       "  color: #000000;\n",
       "}\n",
       "#T_459e4_row5_col1 {\n",
       "  background-color: #31a354;\n",
       "  color: #f1f1f1;\n",
       "}\n",
       "#T_459e4_row6_col0 {\n",
       "  background-color: #dadaeb;\n",
       "  color: #000000;\n",
       "}\n",
       "#T_459e4_row6_col1 {\n",
       "  background-color: #c7e9c0;\n",
       "  color: #000000;\n",
       "}\n",
       "#T_459e4_row6_col2 {\n",
       "  background-color: #6baed6;\n",
       "  color: #f1f1f1;\n",
       "}\n",
       "#T_459e4_row7_col1 {\n",
       "  background-color: #bcbddc;\n",
       "  color: #000000;\n",
       "}\n",
       "</style>\n",
       "<table id=\"T_459e4\">\n",
       "  <thead>\n",
       "    <tr>\n",
       "      <th class=\"blank level0\" >&nbsp;</th>\n",
       "      <th id=\"T_459e4_level0_col0\" class=\"col_heading level0 col0\" >Unnamed: 0</th>\n",
       "      <th id=\"T_459e4_level0_col1\" class=\"col_heading level0 col1\" >id</th>\n",
       "      <th id=\"T_459e4_level0_col2\" class=\"col_heading level0 col2\" >views</th>\n",
       "      <th id=\"T_459e4_level0_col3\" class=\"col_heading level0 col3\" >compound</th>\n",
       "    </tr>\n",
       "  </thead>\n",
       "  <tbody>\n",
       "    <tr>\n",
       "      <th id=\"T_459e4_level0_row0\" class=\"row_heading level0 row0\" >count</th>\n",
       "      <td id=\"T_459e4_row0_col0\" class=\"data row0 col0\" >14712.000000</td>\n",
       "      <td id=\"T_459e4_row0_col1\" class=\"data row0 col1\" >14712.000000</td>\n",
       "      <td id=\"T_459e4_row0_col2\" class=\"data row0 col2\" >14712.000000</td>\n",
       "      <td id=\"T_459e4_row0_col3\" class=\"data row0 col3\" >14712.000000</td>\n",
       "    </tr>\n",
       "    <tr>\n",
       "      <th id=\"T_459e4_level0_row1\" class=\"row_heading level0 row1\" >mean</th>\n",
       "      <td id=\"T_459e4_row1_col0\" class=\"data row1 col0\" >7695.078915</td>\n",
       "      <td id=\"T_459e4_row1_col1\" class=\"data row1 col1\" >5731.983415</td>\n",
       "      <td id=\"T_459e4_row1_col2\" class=\"data row1 col2\" >14737.631525</td>\n",
       "      <td id=\"T_459e4_row1_col3\" class=\"data row1 col3\" >0.323880</td>\n",
       "    </tr>\n",
       "    <tr>\n",
       "      <th id=\"T_459e4_level0_row2\" class=\"row_heading level0 row2\" >std</th>\n",
       "      <td id=\"T_459e4_row2_col0\" class=\"data row2 col0\" >4430.002318</td>\n",
       "      <td id=\"T_459e4_row2_col1\" class=\"data row2 col1\" >3185.394956</td>\n",
       "      <td id=\"T_459e4_row2_col2\" class=\"data row2 col2\" >12069.131738</td>\n",
       "      <td id=\"T_459e4_row2_col3\" class=\"data row2 col3\" >0.468967</td>\n",
       "    </tr>\n",
       "    <tr>\n",
       "      <th id=\"T_459e4_level0_row3\" class=\"row_heading level0 row3\" >min</th>\n",
       "      <td id=\"T_459e4_row3_col0\" class=\"data row3 col0\" >0.000000</td>\n",
       "      <td id=\"T_459e4_row3_col1\" class=\"data row3 col1\" >7.000000</td>\n",
       "      <td id=\"T_459e4_row3_col2\" class=\"data row3 col2\" >39.000000</td>\n",
       "      <td id=\"T_459e4_row3_col3\" class=\"data row3 col3\" >-0.956500</td>\n",
       "    </tr>\n",
       "    <tr>\n",
       "      <th id=\"T_459e4_level0_row4\" class=\"row_heading level0 row4\" >25%</th>\n",
       "      <td id=\"T_459e4_row4_col0\" class=\"data row4 col0\" >3825.750000</td>\n",
       "      <td id=\"T_459e4_row4_col1\" class=\"data row4 col1\" >2620.500000</td>\n",
       "      <td id=\"T_459e4_row4_col2\" class=\"data row4 col2\" >7513.750000</td>\n",
       "      <td id=\"T_459e4_row4_col3\" class=\"data row4 col3\" >0.000000</td>\n",
       "    </tr>\n",
       "    <tr>\n",
       "      <th id=\"T_459e4_level0_row5\" class=\"row_heading level0 row5\" >50%</th>\n",
       "      <td id=\"T_459e4_row5_col0\" class=\"data row5 col0\" >7702.500000</td>\n",
       "      <td id=\"T_459e4_row5_col1\" class=\"data row5 col1\" >6559.000000</td>\n",
       "      <td id=\"T_459e4_row5_col2\" class=\"data row5 col2\" >11528.000000</td>\n",
       "      <td id=\"T_459e4_row5_col3\" class=\"data row5 col3\" >0.440400</td>\n",
       "    </tr>\n",
       "    <tr>\n",
       "      <th id=\"T_459e4_level0_row6\" class=\"row_heading level0 row6\" >75%</th>\n",
       "      <td id=\"T_459e4_row6_col0\" class=\"data row6 col0\" >11527.250000</td>\n",
       "      <td id=\"T_459e4_row6_col1\" class=\"data row6 col1\" >8412.000000</td>\n",
       "      <td id=\"T_459e4_row6_col2\" class=\"data row6 col2\" >21654.250000</td>\n",
       "      <td id=\"T_459e4_row6_col3\" class=\"data row6 col3\" >0.765000</td>\n",
       "    </tr>\n",
       "    <tr>\n",
       "      <th id=\"T_459e4_level0_row7\" class=\"row_heading level0 row7\" >max</th>\n",
       "      <td id=\"T_459e4_row7_col0\" class=\"data row7 col0\" >15358.000000</td>\n",
       "      <td id=\"T_459e4_row7_col1\" class=\"data row7 col1\" >10554.000000</td>\n",
       "      <td id=\"T_459e4_row7_col2\" class=\"data row7 col2\" >375298.000000</td>\n",
       "      <td id=\"T_459e4_row7_col3\" class=\"data row7 col3\" >0.995800</td>\n",
       "    </tr>\n",
       "  </tbody>\n",
       "</table>\n"
      ],
      "text/plain": [
       "<pandas.io.formats.style.Styler at 0x7b65e7ff6b90>"
      ]
     },
     "execution_count": 8,
     "metadata": {},
     "output_type": "execute_result"
    }
   ],
   "source": [
    "df.describe().style.background_gradient(cmap='tab20c')"
   ]
  },
  {
   "cell_type": "code",
   "execution_count": 9,
   "id": "005d4e38",
   "metadata": {
    "execution": {
     "iopub.execute_input": "2025-08-24T17:07:22.092165Z",
     "iopub.status.busy": "2025-08-24T17:07:22.091659Z",
     "iopub.status.idle": "2025-08-24T17:07:24.356735Z",
     "shell.execute_reply": "2025-08-24T17:07:24.355835Z"
    },
    "papermill": {
     "duration": 2.277359,
     "end_time": "2025-08-24T17:07:24.359846",
     "exception": false,
     "start_time": "2025-08-24T17:07:22.082487",
     "status": "completed"
    },
    "tags": []
   },
   "outputs": [
    {
     "data": {
      "image/png": "[encoded data removed]",
      "text/plain": [
       "<Figure size 1200x700 with 7 Axes>"
      ]
     },
     "metadata": {},
     "output_type": "display_data"
    }
   ],
   "source": [
    "import missingno as msno\n",
    "\n",
    "fig, ax = plt.subplots(2,2,figsize=(12,7))\n",
    "axs = np.ravel(ax)\n",
    "msno.matrix(df,  fontsize=9, color=(0.25,0,0.5),ax=axs[0]);\n",
    "msno.bar(df, fontsize=8, color=(0.25,0,0.5), ax=axs[1]);\n",
    "msno.heatmap(df,fontsize=8,ax=axs[2]);\n",
    "msno.dendrogram(df,fontsize=8,ax=axs[3], orientation='top')\n",
    "\n",
    "fig.suptitle('Missing Values Analysis', y=1.01, fontsize=15)\n",
    "\n",
    "# Save the plot\n",
    "plt.savefig('missing_values_analysis.png')\n",
    "\n",
    "# Show the plot\n",
    "plt.show()"
   ]
  },
  {
   "cell_type": "code",
   "execution_count": 10,
   "id": "6e696a79",
   "metadata": {
    "execution": {
     "iopub.execute_input": "2025-08-24T17:07:24.377129Z",
     "iopub.status.busy": "2025-08-24T17:07:24.376617Z",
     "iopub.status.idle": "2025-08-24T17:07:24.382622Z",
     "shell.execute_reply": "2025-08-24T17:07:24.381268Z"
    },
    "papermill": {
     "duration": 0.017842,
     "end_time": "2025-08-24T17:07:24.385248",
     "exception": false,
     "start_time": "2025-08-24T17:07:24.367406",
     "status": "completed"
    },
    "tags": []
   },
   "outputs": [],
   "source": [
    "# Data Cleaning and Preprocessing"
   ]
  },
  {
   "cell_type": "code",
   "execution_count": null,
   "id": "8404e933",
   "metadata": {
    "papermill": {
     "duration": 0.008174,
     "end_time": "2025-08-24T17:07:24.400431",
     "exception": false,
     "start_time": "2025-08-24T17:07:24.392257",
     "status": "completed"
    },
    "tags": []
   },
   "outputs": [],
   "source": []
  },
  {
   "cell_type": "markdown",
   "id": "41484b43",
   "metadata": {
    "papermill": {
     "duration": 0.006745,
     "end_time": "2025-08-24T17:07:24.415487",
     "exception": false,
     "start_time": "2025-08-24T17:07:24.408742",
     "status": "completed"
    },
    "tags": []
   },
   "source": [
    "****Clean the Text****:\n",
    "\n",
    "1. Remove unnecessary stuff from the text, like website addresses, username, and special symbols.\n",
    "2. Convert everything to lowercase to keep things consistent.\n",
    "3. Deal with any missing posts, usually just filling them with empty text."
   ]
  },
  {
   "cell_type": "markdown",
   "id": "00bd8a0f",
   "metadata": {
    "papermill": {
     "duration": 0.008107,
     "end_time": "2025-08-24T17:07:24.434463",
     "exception": false,
     "start_time": "2025-08-24T17:07:24.426356",
     "status": "completed"
    },
    "tags": []
   },
   "source": [
    "****Prepare the Text****:\n",
    "\n",
    "1. Break the text into individual words.\n",
    "2. Get rid of common words that don't help with sentiment (like 'the', 'a', 'is'). These are called 'stopwords'\n",
    "3. Simplify words to their base from (e.g, 'running' becomes 'run'). This is called \"lemmatization\"."
   ]
  },
  {
   "cell_type": "code",
   "execution_count": 11,
   "id": "fcc73b05",
   "metadata": {
    "execution": {
     "iopub.execute_input": "2025-08-24T17:07:24.453053Z",
     "iopub.status.busy": "2025-08-24T17:07:24.452540Z",
     "iopub.status.idle": "2025-08-24T17:07:31.327149Z",
     "shell.execute_reply": "2025-08-24T17:07:31.325893Z"
    },
    "papermill": {
     "duration": 6.88685,
     "end_time": "2025-08-24T17:07:31.328805",
     "exception": false,
     "start_time": "2025-08-24T17:07:24.441955",
     "status": "completed"
    },
    "tags": []
   },
   "outputs": [
    {
     "name": "stdout",
     "output_type": "stream",
     "text": [
      "                                                text  \\\n",
      "0           bitcoin market cap surpasses 13 trillion   \n",
      "1  update atausdt long leverage cross x10 smashed...   \n",
      "2  altcoins started make move bitcoin total marke...   \n",
      "3  coin maticusdt timeframe 1d observation broken...   \n",
      "4  coin aptusdt timeframe 1d observation broken m...   \n",
      "\n",
      "                                        cleaned_text  \n",
      "0           bitcoin market cap surpasses    trillion  \n",
      "1  update atausdt long leverage cross x   smashed...  \n",
      "2  altcoins started make move bitcoin total marke...  \n",
      "3  coin maticusdt timeframe  d observation broken...  \n",
      "4  coin aptusdt timeframe  d observation broken m...  \n",
      "                                        cleaned_text  \\\n",
      "0           bitcoin market cap surpasses    trillion   \n",
      "1  update atausdt long leverage cross x   smashed...   \n",
      "2  altcoins started make move bitcoin total marke...   \n",
      "3  coin maticusdt timeframe  d observation broken...   \n",
      "4  coin aptusdt timeframe  d observation broken m...   \n",
      "\n",
      "                                      processed_text  \n",
      "0              bitcoin market cap surpasses trillion  \n",
      "1  update atausdt long leverage cross x smashed s...  \n",
      "2  altcoins started make move bitcoin total marke...  \n",
      "3  coin maticusdt timeframe observation broken ma...  \n",
      "4  coin aptusdt timeframe observation broken majo...  \n"
     ]
    }
   ],
   "source": [
    "def clean_text(text):\n",
    "    \"\"\"\n",
    "    Cleans the input text by removing special characters, URLs, and converting to lowercase.\n",
    "    \"\"\"\n",
    "    if isinstance(text, str):  # Check if the input is a string\n",
    "        text = re.sub(r'http\\S+|www\\S+|@\\S+', '', text, flags=re.MULTILINE) # Remove URLs and mentions\n",
    "        text = re.sub(r'[^a-zA-Z]', ' ', text) # Remove special characters and numbers\n",
    "        text = text.lower() # Convert to lowercase\n",
    "        return text\n",
    "    else:\n",
    "        return \"\"  # Return an empty string for non-string values\n",
    "\n",
    "df['cleaned_text'] = df['text'].apply(clean_text)\n",
    "print(df[['text', 'cleaned_text']].head())\n",
    "\n",
    "def preprocess_text(text):\n",
    "    \"\"\"\n",
    "    Tokenizes, removes stopwords, and lemmatizes the input text.\n",
    "    \"\"\"\n",
    "    # Tokenize the text\n",
    "    words = text.split()\n",
    "    # Remove stopwords\n",
    "    stop_words = set(stopwords.words('english'))\n",
    "    words = [w for w in words if not w in stop_words]\n",
    "    # Lemmatize the words\n",
    "    lemmatizer = WordNetLemmatizer()\n",
    "    words = [lemmatizer.lemmatize(w) for w in words]\n",
    "    # Join the words back into one string\n",
    "    return ' '.join(words)\n",
    "\n",
    "df['processed_text'] = df['cleaned_text'].apply(preprocess_text)\n",
    "print(df[['cleaned_text', 'processed_text']].head())"
   ]
  },
  {
   "cell_type": "code",
   "execution_count": 12,
   "id": "3175c510",
   "metadata": {
    "execution": {
     "iopub.execute_input": "2025-08-24T17:07:31.343853Z",
     "iopub.status.busy": "2025-08-24T17:07:31.343502Z",
     "iopub.status.idle": "2025-08-24T17:07:31.361096Z",
     "shell.execute_reply": "2025-08-24T17:07:31.360291Z"
    },
    "papermill": {
     "duration": 0.026967,
     "end_time": "2025-08-24T17:07:31.362625",
     "exception": false,
     "start_time": "2025-08-24T17:07:31.335658",
     "status": "completed"
    },
    "tags": []
   },
   "outputs": [
    {
     "name": "stdout",
     "output_type": "stream",
     "text": [
      "Missing Values before handling:\n"
     ]
    },
    {
     "data": {
      "text/plain": [
       "Unnamed: 0         0\n",
       "channel            0\n",
       "id                 0\n",
       "text              30\n",
       "date               0\n",
       "views              0\n",
       "scores             0\n",
       "compound           0\n",
       "sentiment_type     0\n",
       "cleaned_text       0\n",
       "processed_text     0\n",
       "dtype: int64"
      ]
     },
     "execution_count": 12,
     "metadata": {},
     "output_type": "execute_result"
    }
   ],
   "source": [
    "# Handling Missing Values\n",
    "print(\"Missing Values before handling:\")\n",
    "df.isnull().sum()"
   ]
  },
  {
   "cell_type": "code",
   "execution_count": 13,
   "id": "c3119bbb",
   "metadata": {
    "execution": {
     "iopub.execute_input": "2025-08-24T17:07:31.382975Z",
     "iopub.status.busy": "2025-08-24T17:07:31.382540Z",
     "iopub.status.idle": "2025-08-24T17:07:31.408325Z",
     "shell.execute_reply": "2025-08-24T17:07:31.407009Z"
    },
    "papermill": {
     "duration": 0.039236,
     "end_time": "2025-08-24T17:07:31.409982",
     "exception": false,
     "start_time": "2025-08-24T17:07:31.370746",
     "status": "completed"
    },
    "tags": []
   },
   "outputs": [
    {
     "name": "stdout",
     "output_type": "stream",
     "text": [
      "\n",
      "Missing Values after handling:\n"
     ]
    },
    {
     "data": {
      "text/plain": [
       "Unnamed: 0        0\n",
       "channel           0\n",
       "id                0\n",
       "text              0\n",
       "date              0\n",
       "views             0\n",
       "scores            0\n",
       "compound          0\n",
       "sentiment_type    0\n",
       "cleaned_text      0\n",
       "processed_text    0\n",
       "dtype: int64"
      ]
     },
     "execution_count": 13,
     "metadata": {},
     "output_type": "execute_result"
    }
   ],
   "source": [
    "# Fill the missing text with an empty string\n",
    "df['text'] = df['text'].fillna('')\n",
    "print('\\nMissing Values after handling:')\n",
    "df.isnull().sum()"
   ]
  },
  {
   "cell_type": "code",
   "execution_count": null,
   "id": "697571dd",
   "metadata": {
    "papermill": {
     "duration": 0.007885,
     "end_time": "2025-08-24T17:07:31.425178",
     "exception": false,
     "start_time": "2025-08-24T17:07:31.417293",
     "status": "completed"
    },
    "tags": []
   },
   "outputs": [],
   "source": []
  },
  {
   "cell_type": "markdown",
   "id": "ac24c2b8",
   "metadata": {
    "papermill": {
     "duration": 0.00673,
     "end_time": "2025-08-24T17:07:31.438956",
     "exception": false,
     "start_time": "2025-08-24T17:07:31.432226",
     "status": "completed"
    },
    "tags": []
   },
   "source": [
    "****3. Exploratory Data Analysis (EDA)****:\n",
    "\n",
    "3.1 Sentiment Distribution:\n",
    "Look at how many posts fall into each sentiment category(positive, negative, neutral). Visualize it with a bar chart"
   ]
  },
  {
   "cell_type": "code",
   "execution_count": 14,
   "id": "c334fc15",
   "metadata": {
    "execution": {
     "iopub.execute_input": "2025-08-24T17:07:31.454288Z",
     "iopub.status.busy": "2025-08-24T17:07:31.453908Z",
     "iopub.status.idle": "2025-08-24T17:07:31.687619Z",
     "shell.execute_reply": "2025-08-24T17:07:31.686545Z"
    },
    "papermill": {
     "duration": 0.243505,
     "end_time": "2025-08-24T17:07:31.689404",
     "exception": false,
     "start_time": "2025-08-24T17:07:31.445899",
     "status": "completed"
    },
    "tags": []
   },
   "outputs": [
    {
     "name": "stdout",
     "output_type": "stream",
     "text": [
      "\n",
      "Sentiment Distribution:\n",
      " sentiment_type\n",
      "POSITIVE    8789\n",
      "NEUTRAL     3879\n",
      "NEGATIVE    2044\n",
      "Name: count, dtype: int64\n"
     ]
    },
    {
     "data": {
      "image/png": "[encoded data removed]",
      "text/plain": [
       "<Figure size 800x600 with 1 Axes>"
      ]
     },
     "metadata": {},
     "output_type": "display_data"
    }
   ],
   "source": [
    "# Sentiment Distribution\n",
    "\n",
    "sentiment_counts = df['sentiment_type'].value_counts()\n",
    "print(\"\\nSentiment Distribution:\\n\", sentiment_counts)\n",
    "plt.figure(figsize=(8,6))\n",
    "ax = sns.barplot(x=sentiment_counts.index, y=sentiment_counts.values)\n",
    "plt.title(\"Distribution of Sentiment Types\", fontsize=14, fontweight='bold', color='forestgreen')\n",
    "plt.xlabel('Sentiment', fontsize=12, fontweight='bold', color='darkblue')\n",
    "plt.ylabel('Number of Posts', fontsize=12, fontweight='bold', color='darkblue')\n",
    "plt.gca().set_facecolor('#dff2e1')\n",
    "\n",
    "# Add values on top of the bars\n",
    "for p in ax.patches:\n",
    "    ax.annotate(f'{p.get_height():.0f}', (p.get_x() + p.get_width() / 2., p.get_height()),\n",
    "               ha='center', va='center', xytext=(0,5), textcoords='offset points')\n",
    "\n",
    "plt.show()"
   ]
  },
  {
   "cell_type": "code",
   "execution_count": null,
   "id": "6a2221bb",
   "metadata": {
    "papermill": {
     "duration": 0.007283,
     "end_time": "2025-08-24T17:07:31.704846",
     "exception": false,
     "start_time": "2025-08-24T17:07:31.697563",
     "status": "completed"
    },
    "tags": []
   },
   "outputs": [],
   "source": []
  },
  {
   "cell_type": "markdown",
   "id": "849c0b34",
   "metadata": {
    "papermill": {
     "duration": 0.007172,
     "end_time": "2025-08-24T17:07:31.719513",
     "exception": false,
     "start_time": "2025-08-24T17:07:31.712341",
     "status": "completed"
    },
    "tags": []
   },
   "source": [
    "****Most Common Words****:\n",
    "\n",
    "Find the most frequent words in the posts to get a sense of the topics being discussed. Show it with a bar chart too."
   ]
  },
  {
   "cell_type": "code",
   "execution_count": 15,
   "id": "80c0f2c1",
   "metadata": {
    "execution": {
     "iopub.execute_input": "2025-08-24T17:07:31.736110Z",
     "iopub.status.busy": "2025-08-24T17:07:31.735738Z",
     "iopub.status.idle": "2025-08-24T17:07:32.211007Z",
     "shell.execute_reply": "2025-08-24T17:07:32.209945Z"
    },
    "papermill": {
     "duration": 0.486011,
     "end_time": "2025-08-24T17:07:32.213099",
     "exception": false,
     "start_time": "2025-08-24T17:07:31.727088",
     "status": "completed"
    },
    "tags": []
   },
   "outputs": [
    {
     "name": "stdout",
     "output_type": "stream",
     "text": [
      "Most Common Words: [('vip', 8531), ('market', 5609), ('binance', 5335), ('target', 5105), ('bitcoin', 4529), ('trading', 3812), ('killer', 3811), ('x', 3571), ('profit', 3527), ('level', 3410), ('update', 3284), ('btc', 3222), ('bullet', 3124), ('top', 2906), ('h', 2671), ('move', 2421), ('crypto', 2418), ('content', 2267), ('price', 2156), ('long', 2148)]\n"
     ]
    },
    {
     "data": {
      "image/png": "[encoded data removed]",
      "text/plain": [
       "<Figure size 1200x600 with 1 Axes>"
      ]
     },
     "metadata": {},
     "output_type": "display_data"
    }
   ],
   "source": [
    "# Most Common Words\n",
    "def plot_most_common_words(text_series, top_n=20):\n",
    "    \"\"\"\n",
    "    Plots the most common words in a text series.\n",
    "    \"\"\"\n",
    "    all_words = ' '.join(text_series).split()\n",
    "    word_counts = Counter(all_words)\n",
    "    most_common_words = word_counts.most_common(top_n)\n",
    "    print(\"Most Common Words:\", most_common_words)\n",
    "    words, counts = zip(*most_common_words)\n",
    "    plt.figure(figsize=(12, 6))\n",
    "    ax = sns.barplot(x=list(words), y=list(counts))\n",
    "    plt.xticks(rotation=45)\n",
    "    plt.title('Most Common Words', fontsize = 14, fontweight = 'bold', color = 'forestgreen')\n",
    "    plt.xlabel('Words',fontsize = 12, fontweight = 'bold', color = 'deeppink')\n",
    "    plt.ylabel('Frequency',fontsize = 12, fontweight = 'bold', color = 'deeppink')\n",
    "    plt.gca().set_facecolor('#dff2e1')\n",
    "\n",
    "    #Add values to the  most common words\n",
    "    for p in ax.patches:\n",
    "        ax.annotate(f'{p.get_height():.0f}', (p.get_x() + p.get_width() / 2., p.get_height()),\n",
    "                    ha='center', va='center', xytext=(0, 5), textcoords='offset points')\n",
    "\n",
    "    plt.show()\n",
    "\n",
    "plot_most_common_words(df['processed_text'])"
   ]
  },
  {
   "cell_type": "code",
   "execution_count": null,
   "id": "e3b7d40c",
   "metadata": {
    "papermill": {
     "duration": 0.008947,
     "end_time": "2025-08-24T17:07:32.232757",
     "exception": false,
     "start_time": "2025-08-24T17:07:32.223810",
     "status": "completed"
    },
    "tags": []
   },
   "outputs": [],
   "source": []
  }
 ],
 "metadata": {
  "kaggle": {
   "accelerator": "none",
   "dataSources": [
    {
     "datasetId": 6284745,
     "sourceId": 10175190,
     "sourceType": "datasetVersion"
    },
    {
     "sourceId": 117939712,
     "sourceType": "kernelVersion"
    },
    {
     "sourceId": 256596611,
     "sourceType": "kernelVersion"
    },
    {
     "sourceId": 257609611,
     "sourceType": "kernelVersion"
    }
   ],
   "dockerImageVersionId": 31089,
   "isGpuEnabled": false,
   "isInternetEnabled": true,
   "language": "python",
   "sourceType": "notebook"
  },
  "kernelspec": {
   "display_name": "Python 3",
   "language": "python",
   "name": "python3"
  },
  "language_info": {
   "codemirror_mode": {
    "name": "ipython",
    "version": 3
   },
   "file_extension": ".py",
   "mimetype": "text/x-python",
   "name": "python",
   "nbconvert_exporter": "python",
   "pygments_lexer": "ipython3",
   "version": "3.11.13"
  },
  "papermill": {
   "default_parameters": {},
   "duration": 24.980349,
   "end_time": "2025-08-24T17:07:33.567149",
   "environment_variables": {},
   "exception": null,
   "input_path": "__notebook__.ipynb",
   "output_path": "__notebook__.ipynb",
   "parameters": {},
   "start_time": "2025-08-24T17:07:08.586800",
   "version": "2.6.0"
  }
 },
 "nbformat": 4,
 "nbformat_minor": 5
}
