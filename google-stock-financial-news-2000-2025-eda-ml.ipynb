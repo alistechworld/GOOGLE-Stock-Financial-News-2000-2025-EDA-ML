{
 "cells": [
  {
   "cell_type": "code",
   "execution_count": 1,
   "id": "490eb549",
   "metadata": {
    "_cell_guid": "b1076dfc-b9ad-4769-8c92-a6c4dae69d19",
    "_uuid": "8f2839f25d086af736a60e9eeb907d3b93b6e0e5",
    "execution": {
     "iopub.execute_input": "2025-04-25T17:25:20.732758Z",
     "iopub.status.busy": "2025-04-25T17:25:20.732400Z",
     "iopub.status.idle": "2025-04-25T17:25:20.737311Z",
     "shell.execute_reply": "2025-04-25T17:25:20.736341Z"
    },
    "papermill": {
     "duration": 0.010495,
     "end_time": "2025-04-25T17:25:20.738938",
     "exception": false,
     "start_time": "2025-04-25T17:25:20.728443",
     "status": "completed"
    },
    "tags": []
   },
   "outputs": [],
   "source": [
    "# Import the important libraries\n"
   ]
  },
  {
   "cell_type": "markdown",
   "id": "cd692458",
   "metadata": {
    "papermill": {
     "duration": 0.001928,
     "end_time": "2025-04-25T17:25:20.743664",
     "exception": false,
     "start_time": "2025-04-25T17:25:20.741736",
     "status": "completed"
    },
    "tags": []
   },
   "source": [
    "# Data Loading and Initial Inspection"
   ]
  },
  {
   "cell_type": "code",
   "execution_count": 2,
   "id": "50677b6e",
   "metadata": {
    "execution": {
     "iopub.execute_input": "2025-04-25T17:25:20.749151Z",
     "iopub.status.busy": "2025-04-25T17:25:20.748853Z",
     "iopub.status.idle": "2025-04-25T17:25:24.422896Z",
     "shell.execute_reply": "2025-04-25T17:25:24.422000Z"
    },
    "papermill": {
     "duration": 3.678411,
     "end_time": "2025-04-25T17:25:24.424297",
     "exception": false,
     "start_time": "2025-04-25T17:25:20.745886",
     "status": "completed"
    },
    "tags": []
   },
   "outputs": [
    {
     "data": {
      "text/html": [
       "<div>\n",
       "<style scoped>\n",
       "    .dataframe tbody tr th:only-of-type {\n",
       "        vertical-align: middle;\n",
       "    }\n",
       "\n",
       "    .dataframe tbody tr th {\n",
       "        vertical-align: top;\n",
       "    }\n",
       "\n",
       "    .dataframe thead th {\n",
       "        text-align: right;\n",
       "    }\n",
       "</style>\n",
       "<table border=\"1\" class=\"dataframe\">\n",
       "  <thead>\n",
       "    <tr style=\"text-align: right;\">\n",
       "      <th></th>\n",
       "      <th>category</th>\n",
       "      <th>datetime</th>\n",
       "      <th>headline</th>\n",
       "      <th>id</th>\n",
       "      <th>image</th>\n",
       "      <th>related</th>\n",
       "      <th>source</th>\n",
       "      <th>summary</th>\n",
       "      <th>url</th>\n",
       "    </tr>\n",
       "  </thead>\n",
       "  <tbody>\n",
       "    <tr>\n",
       "      <th>0</th>\n",
       "      <td>company</td>\n",
       "      <td>1745449200</td>\n",
       "      <td>Alphabet earnings, Fed comments, Nintendo Swit...</td>\n",
       "      <td>134059226</td>\n",
       "      <td>https://s.yimg.com/rz/stage/p/yahoo_finance_en...</td>\n",
       "      <td>GOOGL</td>\n",
       "      <td>Yahoo</td>\n",
       "      <td>Here's what investors are watching on Thursday...</td>\n",
       "      <td>https://finnhub.io/api/news?id=5381fda0f641074...</td>\n",
       "    </tr>\n",
       "    <tr>\n",
       "      <th>1</th>\n",
       "      <td>company</td>\n",
       "      <td>1745446095</td>\n",
       "      <td>Is Alphabet Inc. (GOOGL) the Best Stock to Buy...</td>\n",
       "      <td>134059227</td>\n",
       "      <td>https://s.yimg.com/rz/stage/p/yahoo_finance_en...</td>\n",
       "      <td>GOOGL</td>\n",
       "      <td>Yahoo</td>\n",
       "      <td>We recently published a list of 10 Best Stocks...</td>\n",
       "      <td>https://finnhub.io/api/news?id=bdc5b5103ae73db...</td>\n",
       "    </tr>\n",
       "    <tr>\n",
       "      <th>2</th>\n",
       "      <td>company</td>\n",
       "      <td>1745442355</td>\n",
       "      <td>Is Alphabet Inc. (GOOG) the Best Stock to Buy ...</td>\n",
       "      <td>134059228</td>\n",
       "      <td>https://s.yimg.com/rz/stage/p/yahoo_finance_en...</td>\n",
       "      <td>GOOGL</td>\n",
       "      <td>Yahoo</td>\n",
       "      <td>We recently published a list of 20 Best Stocks...</td>\n",
       "      <td>https://finnhub.io/api/news?id=8cdf3969c1ec9e3...</td>\n",
       "    </tr>\n",
       "    <tr>\n",
       "      <th>3</th>\n",
       "      <td>company</td>\n",
       "      <td>1745440328</td>\n",
       "      <td>Google earnings are coming today. Here's what ...</td>\n",
       "      <td>134059229</td>\n",
       "      <td>https://s.yimg.com/rz/stage/p/yahoo_finance_en...</td>\n",
       "      <td>GOOGL</td>\n",
       "      <td>Yahoo</td>\n",
       "      <td>Google (GOOGL) will report first-quarter 2025 ...</td>\n",
       "      <td>https://finnhub.io/api/news?id=ed468a233b607bd...</td>\n",
       "    </tr>\n",
       "    <tr>\n",
       "      <th>4</th>\n",
       "      <td>company</td>\n",
       "      <td>1745439372</td>\n",
       "      <td>Equity Markets Close Higher Over Potential Red...</td>\n",
       "      <td>134059230</td>\n",
       "      <td>https://s.yimg.com/rz/stage/p/yahoo_finance_en...</td>\n",
       "      <td>GOOGL</td>\n",
       "      <td>Yahoo</td>\n",
       "      <td>US benchmark equity indexes closed higher on W...</td>\n",
       "      <td>https://finnhub.io/api/news?id=54bdad840d13d87...</td>\n",
       "    </tr>\n",
       "    <tr>\n",
       "      <th>...</th>\n",
       "      <td>...</td>\n",
       "      <td>...</td>\n",
       "      <td>...</td>\n",
       "      <td>...</td>\n",
       "      <td>...</td>\n",
       "      <td>...</td>\n",
       "      <td>...</td>\n",
       "      <td>...</td>\n",
       "      <td>...</td>\n",
       "    </tr>\n",
       "    <tr>\n",
       "      <th>226</th>\n",
       "      <td>company</td>\n",
       "      <td>1744828750</td>\n",
       "      <td>Temu, Shein slash digital ads as tariffs end c...</td>\n",
       "      <td>133938138</td>\n",
       "      <td>NaN</td>\n",
       "      <td>GOOGL</td>\n",
       "      <td>Finnhub</td>\n",
       "      <td>Chinese online marketplace Temu and fast-fashi...</td>\n",
       "      <td>https://finnhub.io/api/news?id=102f1c3f6a168e2...</td>\n",
       "    </tr>\n",
       "    <tr>\n",
       "      <th>227</th>\n",
       "      <td>company</td>\n",
       "      <td>1744825027</td>\n",
       "      <td>Communications Services Slide on Flight From R...</td>\n",
       "      <td>133937668</td>\n",
       "      <td>NaN</td>\n",
       "      <td>GOOGL</td>\n",
       "      <td>Finnhub</td>\n",
       "      <td>Communications-services companies slid as trad...</td>\n",
       "      <td>https://finnhub.io/api/news?id=7f3caaad7cfb8bd...</td>\n",
       "    </tr>\n",
       "    <tr>\n",
       "      <th>228</th>\n",
       "      <td>company</td>\n",
       "      <td>1744823999</td>\n",
       "      <td>Prominent Investor Unloads His GOOG Stock</td>\n",
       "      <td>133942438</td>\n",
       "      <td>https://s.yimg.com/rz/stage/p/yahoo_finance_en...</td>\n",
       "      <td>GOOGL</td>\n",
       "      <td>Yahoo</td>\n",
       "      <td>Well-known investor Josh Brown disclosed on CN...</td>\n",
       "      <td>https://finnhub.io/api/news?id=b6947c8f36b7430...</td>\n",
       "    </tr>\n",
       "    <tr>\n",
       "      <th>229</th>\n",
       "      <td>company</td>\n",
       "      <td>1744822824</td>\n",
       "      <td>Is Alphabet Inc. (NASDAQ:GOOGL) the Best Machi...</td>\n",
       "      <td>133935539</td>\n",
       "      <td>https://s.yimg.com/rz/stage/p/yahoo_finance_en...</td>\n",
       "      <td>GOOGL</td>\n",
       "      <td>Yahoo</td>\n",
       "      <td>We recently published a list of the 10 Best Ma...</td>\n",
       "      <td>https://finnhub.io/api/news?id=1c2d2e437dd6a2f...</td>\n",
       "    </tr>\n",
       "    <tr>\n",
       "      <th>230</th>\n",
       "      <td>company</td>\n",
       "      <td>1744816860</td>\n",
       "      <td>Big Tech’s China Risks Go Far Beyond Nvidia</td>\n",
       "      <td>133945001</td>\n",
       "      <td>NaN</td>\n",
       "      <td>GOOGL</td>\n",
       "      <td>MarketWatch</td>\n",
       "      <td>Big Tech’s China Risks Go Far Beyond Nvidia</td>\n",
       "      <td>https://finnhub.io/api/news?id=d7b8b9a7c587d01...</td>\n",
       "    </tr>\n",
       "  </tbody>\n",
       "</table>\n",
       "<p>231 rows × 9 columns</p>\n",
       "</div>"
      ],
      "text/plain": [
       "    category    datetime                                           headline  \\\n",
       "0    company  1745449200  Alphabet earnings, Fed comments, Nintendo Swit...   \n",
       "1    company  1745446095  Is Alphabet Inc. (GOOGL) the Best Stock to Buy...   \n",
       "2    company  1745442355  Is Alphabet Inc. (GOOG) the Best Stock to Buy ...   \n",
       "3    company  1745440328  Google earnings are coming today. Here's what ...   \n",
       "4    company  1745439372  Equity Markets Close Higher Over Potential Red...   \n",
       "..       ...         ...                                                ...   \n",
       "226  company  1744828750  Temu, Shein slash digital ads as tariffs end c...   \n",
       "227  company  1744825027  Communications Services Slide on Flight From R...   \n",
       "228  company  1744823999          Prominent Investor Unloads His GOOG Stock   \n",
       "229  company  1744822824  Is Alphabet Inc. (NASDAQ:GOOGL) the Best Machi...   \n",
       "230  company  1744816860        Big Tech’s China Risks Go Far Beyond Nvidia   \n",
       "\n",
       "            id                                              image related  \\\n",
       "0    134059226  https://s.yimg.com/rz/stage/p/yahoo_finance_en...   GOOGL   \n",
       "1    134059227  https://s.yimg.com/rz/stage/p/yahoo_finance_en...   GOOGL   \n",
       "2    134059228  https://s.yimg.com/rz/stage/p/yahoo_finance_en...   GOOGL   \n",
       "3    134059229  https://s.yimg.com/rz/stage/p/yahoo_finance_en...   GOOGL   \n",
       "4    134059230  https://s.yimg.com/rz/stage/p/yahoo_finance_en...   GOOGL   \n",
       "..         ...                                                ...     ...   \n",
       "226  133938138                                                NaN   GOOGL   \n",
       "227  133937668                                                NaN   GOOGL   \n",
       "228  133942438  https://s.yimg.com/rz/stage/p/yahoo_finance_en...   GOOGL   \n",
       "229  133935539  https://s.yimg.com/rz/stage/p/yahoo_finance_en...   GOOGL   \n",
       "230  133945001                                                NaN   GOOGL   \n",
       "\n",
       "          source                                            summary  \\\n",
       "0          Yahoo  Here's what investors are watching on Thursday...   \n",
       "1          Yahoo  We recently published a list of 10 Best Stocks...   \n",
       "2          Yahoo  We recently published a list of 20 Best Stocks...   \n",
       "3          Yahoo  Google (GOOGL) will report first-quarter 2025 ...   \n",
       "4          Yahoo  US benchmark equity indexes closed higher on W...   \n",
       "..           ...                                                ...   \n",
       "226      Finnhub  Chinese online marketplace Temu and fast-fashi...   \n",
       "227      Finnhub  Communications-services companies slid as trad...   \n",
       "228        Yahoo  Well-known investor Josh Brown disclosed on CN...   \n",
       "229        Yahoo  We recently published a list of the 10 Best Ma...   \n",
       "230  MarketWatch        Big Tech’s China Risks Go Far Beyond Nvidia   \n",
       "\n",
       "                                                   url  \n",
       "0    https://finnhub.io/api/news?id=5381fda0f641074...  \n",
       "1    https://finnhub.io/api/news?id=bdc5b5103ae73db...  \n",
       "2    https://finnhub.io/api/news?id=8cdf3969c1ec9e3...  \n",
       "3    https://finnhub.io/api/news?id=ed468a233b607bd...  \n",
       "4    https://finnhub.io/api/news?id=54bdad840d13d87...  \n",
       "..                                                 ...  \n",
       "226  https://finnhub.io/api/news?id=102f1c3f6a168e2...  \n",
       "227  https://finnhub.io/api/news?id=7f3caaad7cfb8bd...  \n",
       "228  https://finnhub.io/api/news?id=b6947c8f36b7430...  \n",
       "229  https://finnhub.io/api/news?id=1c2d2e437dd6a2f...  \n",
       "230  https://finnhub.io/api/news?id=d7b8b9a7c587d01...  \n",
       "\n",
       "[231 rows x 9 columns]"
      ]
     },
     "execution_count": 2,
     "metadata": {},
     "output_type": "execute_result"
    }
   ],
   "source": [
    "# Import the important libraries\n",
    "import pandas as pd\n",
    "import numpy as np\n",
    "import matplotlib.pyplot as plt\n",
    "import seaborn as sns\n",
    "from datetime import datetime\n",
    "\n",
    "# Load the dataset\n",
    "df = pd.read_csv('/kaggle/input/google-googl-financial-news-from-2000-to-today/Google_Daily_News.csv')\n",
    "\n",
    "df"
   ]
  },
  {
   "cell_type": "code",
   "execution_count": 3,
   "id": "bb14340a",
   "metadata": {
    "execution": {
     "iopub.execute_input": "2025-04-25T17:25:24.430996Z",
     "iopub.status.busy": "2025-04-25T17:25:24.430621Z",
     "iopub.status.idle": "2025-04-25T17:25:24.438821Z",
     "shell.execute_reply": "2025-04-25T17:25:24.437801Z"
    },
    "papermill": {
     "duration": 0.013109,
     "end_time": "2025-04-25T17:25:24.440150",
     "exception": false,
     "start_time": "2025-04-25T17:25:24.427041",
     "status": "completed"
    },
    "tags": []
   },
   "outputs": [
    {
     "name": "stdout",
     "output_type": "stream",
     "text": [
      "  category    datetime                                           headline  \\\n",
      "0  company  1745449200  Alphabet earnings, Fed comments, Nintendo Swit...   \n",
      "1  company  1745446095  Is Alphabet Inc. (GOOGL) the Best Stock to Buy...   \n",
      "2  company  1745442355  Is Alphabet Inc. (GOOG) the Best Stock to Buy ...   \n",
      "3  company  1745440328  Google earnings are coming today. Here's what ...   \n",
      "4  company  1745439372  Equity Markets Close Higher Over Potential Red...   \n",
      "\n",
      "          id                                              image related  \\\n",
      "0  134059226  https://s.yimg.com/rz/stage/p/yahoo_finance_en...   GOOGL   \n",
      "1  134059227  https://s.yimg.com/rz/stage/p/yahoo_finance_en...   GOOGL   \n",
      "2  134059228  https://s.yimg.com/rz/stage/p/yahoo_finance_en...   GOOGL   \n",
      "3  134059229  https://s.yimg.com/rz/stage/p/yahoo_finance_en...   GOOGL   \n",
      "4  134059230  https://s.yimg.com/rz/stage/p/yahoo_finance_en...   GOOGL   \n",
      "\n",
      "  source                                            summary  \\\n",
      "0  Yahoo  Here's what investors are watching on Thursday...   \n",
      "1  Yahoo  We recently published a list of 10 Best Stocks...   \n",
      "2  Yahoo  We recently published a list of 20 Best Stocks...   \n",
      "3  Yahoo  Google (GOOGL) will report first-quarter 2025 ...   \n",
      "4  Yahoo  US benchmark equity indexes closed higher on W...   \n",
      "\n",
      "                                                 url  \n",
      "0  https://finnhub.io/api/news?id=5381fda0f641074...  \n",
      "1  https://finnhub.io/api/news?id=bdc5b5103ae73db...  \n",
      "2  https://finnhub.io/api/news?id=8cdf3969c1ec9e3...  \n",
      "3  https://finnhub.io/api/news?id=ed468a233b607bd...  \n",
      "4  https://finnhub.io/api/news?id=54bdad840d13d87...  \n"
     ]
    }
   ],
   "source": [
    "# Display First Five Rows\n",
    "print(df.head(5))"
   ]
  },
  {
   "cell_type": "code",
   "execution_count": 4,
   "id": "89e19dc4",
   "metadata": {
    "execution": {
     "iopub.execute_input": "2025-04-25T17:25:24.447083Z",
     "iopub.status.busy": "2025-04-25T17:25:24.446766Z",
     "iopub.status.idle": "2025-04-25T17:25:24.470034Z",
     "shell.execute_reply": "2025-04-25T17:25:24.469044Z"
    },
    "papermill": {
     "duration": 0.028546,
     "end_time": "2025-04-25T17:25:24.471640",
     "exception": false,
     "start_time": "2025-04-25T17:25:24.443094",
     "status": "completed"
    },
    "tags": []
   },
   "outputs": [
    {
     "name": "stdout",
     "output_type": "stream",
     "text": [
      "<class 'pandas.core.frame.DataFrame'>\n",
      "RangeIndex: 231 entries, 0 to 230\n",
      "Data columns (total 9 columns):\n",
      " #   Column    Non-Null Count  Dtype \n",
      "---  ------    --------------  ----- \n",
      " 0   category  231 non-null    object\n",
      " 1   datetime  231 non-null    int64 \n",
      " 2   headline  231 non-null    object\n",
      " 3   id        231 non-null    int64 \n",
      " 4   image     158 non-null    object\n",
      " 5   related   231 non-null    object\n",
      " 6   source    231 non-null    object\n",
      " 7   summary   190 non-null    object\n",
      " 8   url       231 non-null    object\n",
      "dtypes: int64(2), object(7)\n",
      "memory usage: 16.4+ KB\n"
     ]
    }
   ],
   "source": [
    "# Check for the basics info\n",
    "df.info()"
   ]
  },
  {
   "cell_type": "code",
   "execution_count": 5,
   "id": "4125e092",
   "metadata": {
    "execution": {
     "iopub.execute_input": "2025-04-25T17:25:24.478361Z",
     "iopub.status.busy": "2025-04-25T17:25:24.478059Z",
     "iopub.status.idle": "2025-04-25T17:25:24.485100Z",
     "shell.execute_reply": "2025-04-25T17:25:24.484350Z"
    },
    "papermill": {
     "duration": 0.011861,
     "end_time": "2025-04-25T17:25:24.486429",
     "exception": false,
     "start_time": "2025-04-25T17:25:24.474568",
     "status": "completed"
    },
    "tags": []
   },
   "outputs": [
    {
     "data": {
      "text/plain": [
       "category     0\n",
       "datetime     0\n",
       "headline     0\n",
       "id           0\n",
       "image       73\n",
       "related      0\n",
       "source       0\n",
       "summary     41\n",
       "url          0\n",
       "dtype: int64"
      ]
     },
     "execution_count": 5,
     "metadata": {},
     "output_type": "execute_result"
    }
   ],
   "source": [
    "# Check for missing values\n",
    "df.isnull().sum()"
   ]
  },
  {
   "cell_type": "code",
   "execution_count": 6,
   "id": "fcfe7001",
   "metadata": {
    "execution": {
     "iopub.execute_input": "2025-04-25T17:25:24.493196Z",
     "iopub.status.busy": "2025-04-25T17:25:24.492906Z",
     "iopub.status.idle": "2025-04-25T17:25:24.499600Z",
     "shell.execute_reply": "2025-04-25T17:25:24.498913Z"
    },
    "papermill": {
     "duration": 0.011768,
     "end_time": "2025-04-25T17:25:24.501138",
     "exception": false,
     "start_time": "2025-04-25T17:25:24.489370",
     "status": "completed"
    },
    "tags": []
   },
   "outputs": [
    {
     "data": {
      "text/plain": [
       "category\n",
       "company    231\n",
       "Name: count, dtype: int64"
      ]
     },
     "execution_count": 6,
     "metadata": {},
     "output_type": "execute_result"
    }
   ],
   "source": [
    "# Check uniquie values in categorical columns\n",
    "df['category'].value_counts()"
   ]
  },
  {
   "cell_type": "markdown",
   "id": "5e93e5b8",
   "metadata": {
    "papermill": {
     "duration": 0.002613,
     "end_time": "2025-04-25T17:25:24.507980",
     "exception": false,
     "start_time": "2025-04-25T17:25:24.505367",
     "status": "completed"
    },
    "tags": []
   },
   "source": [
    "# Data Cleaning\n"
   ]
  },
  {
   "cell_type": "code",
   "execution_count": null,
   "id": "a308cb43",
   "metadata": {
    "papermill": {
     "duration": 0.002592,
     "end_time": "2025-04-25T17:25:24.513447",
     "exception": false,
     "start_time": "2025-04-25T17:25:24.510855",
     "status": "completed"
    },
    "tags": []
   },
   "outputs": [],
   "source": []
  }
 ],
 "metadata": {
  "kaggle": {
   "accelerator": "none",
   "dataSources": [
    {
     "datasetId": 7242017,
     "sourceId": 11565548,
     "sourceType": "datasetVersion"
    }
   ],
   "dockerImageVersionId": 31012,
   "isGpuEnabled": false,
   "isInternetEnabled": true,
   "language": "python",
   "sourceType": "notebook"
  },
  "kernelspec": {
   "display_name": "Python 3",
   "language": "python",
   "name": "python3"
  },
  "language_info": {
   "codemirror_mode": {
    "name": "ipython",
    "version": 3
   },
   "file_extension": ".py",
   "mimetype": "text/x-python",
   "name": "python",
   "nbconvert_exporter": "python",
   "pygments_lexer": "ipython3",
   "version": "3.11.11"
  },
  "papermill": {
   "default_parameters": {},
   "duration": 9.216637,
   "end_time": "2025-04-25T17:25:25.135916",
   "environment_variables": {},
   "exception": null,
   "input_path": "__notebook__.ipynb",
   "output_path": "__notebook__.ipynb",
   "parameters": {},
   "start_time": "2025-04-25T17:25:15.919279",
   "version": "2.6.0"
  }
 },
 "nbformat": 4,
 "nbformat_minor": 5
}
