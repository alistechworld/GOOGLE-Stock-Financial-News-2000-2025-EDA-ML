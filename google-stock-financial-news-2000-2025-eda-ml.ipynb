{
 "cells": [
  {
   "cell_type": "code",
   "execution_count": 1,
   "id": "b2d16636",
   "metadata": {
    "_cell_guid": "b1076dfc-b9ad-4769-8c92-a6c4dae69d19",
    "_uuid": "8f2839f25d086af736a60e9eeb907d3b93b6e0e5",
    "execution": {
     "iopub.execute_input": "2025-04-26T17:32:21.321395Z",
     "iopub.status.busy": "2025-04-26T17:32:21.321039Z",
     "iopub.status.idle": "2025-04-26T17:32:21.325888Z",
     "shell.execute_reply": "2025-04-26T17:32:21.325169Z"
    },
    "papermill": {
     "duration": 0.01065,
     "end_time": "2025-04-26T17:32:21.327282",
     "exception": false,
     "start_time": "2025-04-26T17:32:21.316632",
     "status": "completed"
    },
    "tags": []
   },
   "outputs": [],
   "source": [
    "# Import the important libraries\n"
   ]
  },
  {
   "cell_type": "markdown",
   "id": "76c552d7",
   "metadata": {
    "papermill": {
     "duration": 0.002171,
     "end_time": "2025-04-26T17:32:21.332258",
     "exception": false,
     "start_time": "2025-04-26T17:32:21.330087",
     "status": "completed"
    },
    "tags": []
   },
   "source": [
    "# Data Loading and Initial Inspection"
   ]
  },
  {
   "cell_type": "code",
   "execution_count": 2,
   "id": "f929a9c4",
   "metadata": {
    "execution": {
     "iopub.execute_input": "2025-04-26T17:32:21.338438Z",
     "iopub.status.busy": "2025-04-26T17:32:21.338087Z",
     "iopub.status.idle": "2025-04-26T17:32:25.461627Z",
     "shell.execute_reply": "2025-04-26T17:32:25.460613Z"
    },
    "papermill": {
     "duration": 4.128736,
     "end_time": "2025-04-26T17:32:25.463304",
     "exception": false,
     "start_time": "2025-04-26T17:32:21.334568",
     "status": "completed"
    },
    "tags": []
   },
   "outputs": [
    {
     "data": {
      "text/html": [
       "<div>\n",
       "<style scoped>\n",
       "    .dataframe tbody tr th:only-of-type {\n",
       "        vertical-align: middle;\n",
       "    }\n",
       "\n",
       "    .dataframe tbody tr th {\n",
       "        vertical-align: top;\n",
       "    }\n",
       "\n",
       "    .dataframe thead th {\n",
       "        text-align: right;\n",
       "    }\n",
       "</style>\n",
       "<table border=\"1\" class=\"dataframe\">\n",
       "  <thead>\n",
       "    <tr style=\"text-align: right;\">\n",
       "      <th></th>\n",
       "      <th>category</th>\n",
       "      <th>datetime</th>\n",
       "      <th>headline</th>\n",
       "      <th>id</th>\n",
       "      <th>image</th>\n",
       "      <th>related</th>\n",
       "      <th>source</th>\n",
       "      <th>summary</th>\n",
       "      <th>url</th>\n",
       "    </tr>\n",
       "  </thead>\n",
       "  <tbody>\n",
       "    <tr>\n",
       "      <th>0</th>\n",
       "      <td>company</td>\n",
       "      <td>1745449200</td>\n",
       "      <td>Alphabet earnings, Fed comments, Nintendo Swit...</td>\n",
       "      <td>134059226</td>\n",
       "      <td>https://s.yimg.com/rz/stage/p/yahoo_finance_en...</td>\n",
       "      <td>GOOGL</td>\n",
       "      <td>Yahoo</td>\n",
       "      <td>Here's what investors are watching on Thursday...</td>\n",
       "      <td>https://finnhub.io/api/news?id=5381fda0f641074...</td>\n",
       "    </tr>\n",
       "    <tr>\n",
       "      <th>1</th>\n",
       "      <td>company</td>\n",
       "      <td>1745446095</td>\n",
       "      <td>Is Alphabet Inc. (GOOGL) the Best Stock to Buy...</td>\n",
       "      <td>134059227</td>\n",
       "      <td>https://s.yimg.com/rz/stage/p/yahoo_finance_en...</td>\n",
       "      <td>GOOGL</td>\n",
       "      <td>Yahoo</td>\n",
       "      <td>We recently published a list of 10 Best Stocks...</td>\n",
       "      <td>https://finnhub.io/api/news?id=bdc5b5103ae73db...</td>\n",
       "    </tr>\n",
       "    <tr>\n",
       "      <th>2</th>\n",
       "      <td>company</td>\n",
       "      <td>1745442355</td>\n",
       "      <td>Is Alphabet Inc. (GOOG) the Best Stock to Buy ...</td>\n",
       "      <td>134059228</td>\n",
       "      <td>https://s.yimg.com/rz/stage/p/yahoo_finance_en...</td>\n",
       "      <td>GOOGL</td>\n",
       "      <td>Yahoo</td>\n",
       "      <td>We recently published a list of 20 Best Stocks...</td>\n",
       "      <td>https://finnhub.io/api/news?id=8cdf3969c1ec9e3...</td>\n",
       "    </tr>\n",
       "    <tr>\n",
       "      <th>3</th>\n",
       "      <td>company</td>\n",
       "      <td>1745440328</td>\n",
       "      <td>Google earnings are coming today. Here's what ...</td>\n",
       "      <td>134059229</td>\n",
       "      <td>https://s.yimg.com/rz/stage/p/yahoo_finance_en...</td>\n",
       "      <td>GOOGL</td>\n",
       "      <td>Yahoo</td>\n",
       "      <td>Google (GOOGL) will report first-quarter 2025 ...</td>\n",
       "      <td>https://finnhub.io/api/news?id=ed468a233b607bd...</td>\n",
       "    </tr>\n",
       "    <tr>\n",
       "      <th>4</th>\n",
       "      <td>company</td>\n",
       "      <td>1745439372</td>\n",
       "      <td>Equity Markets Close Higher Over Potential Red...</td>\n",
       "      <td>134059230</td>\n",
       "      <td>https://s.yimg.com/rz/stage/p/yahoo_finance_en...</td>\n",
       "      <td>GOOGL</td>\n",
       "      <td>Yahoo</td>\n",
       "      <td>US benchmark equity indexes closed higher on W...</td>\n",
       "      <td>https://finnhub.io/api/news?id=54bdad840d13d87...</td>\n",
       "    </tr>\n",
       "    <tr>\n",
       "      <th>...</th>\n",
       "      <td>...</td>\n",
       "      <td>...</td>\n",
       "      <td>...</td>\n",
       "      <td>...</td>\n",
       "      <td>...</td>\n",
       "      <td>...</td>\n",
       "      <td>...</td>\n",
       "      <td>...</td>\n",
       "      <td>...</td>\n",
       "    </tr>\n",
       "    <tr>\n",
       "      <th>226</th>\n",
       "      <td>company</td>\n",
       "      <td>1744828750</td>\n",
       "      <td>Temu, Shein slash digital ads as tariffs end c...</td>\n",
       "      <td>133938138</td>\n",
       "      <td>NaN</td>\n",
       "      <td>GOOGL</td>\n",
       "      <td>Finnhub</td>\n",
       "      <td>Chinese online marketplace Temu and fast-fashi...</td>\n",
       "      <td>https://finnhub.io/api/news?id=102f1c3f6a168e2...</td>\n",
       "    </tr>\n",
       "    <tr>\n",
       "      <th>227</th>\n",
       "      <td>company</td>\n",
       "      <td>1744825027</td>\n",
       "      <td>Communications Services Slide on Flight From R...</td>\n",
       "      <td>133937668</td>\n",
       "      <td>NaN</td>\n",
       "      <td>GOOGL</td>\n",
       "      <td>Finnhub</td>\n",
       "      <td>Communications-services companies slid as trad...</td>\n",
       "      <td>https://finnhub.io/api/news?id=7f3caaad7cfb8bd...</td>\n",
       "    </tr>\n",
       "    <tr>\n",
       "      <th>228</th>\n",
       "      <td>company</td>\n",
       "      <td>1744823999</td>\n",
       "      <td>Prominent Investor Unloads His GOOG Stock</td>\n",
       "      <td>133942438</td>\n",
       "      <td>https://s.yimg.com/rz/stage/p/yahoo_finance_en...</td>\n",
       "      <td>GOOGL</td>\n",
       "      <td>Yahoo</td>\n",
       "      <td>Well-known investor Josh Brown disclosed on CN...</td>\n",
       "      <td>https://finnhub.io/api/news?id=b6947c8f36b7430...</td>\n",
       "    </tr>\n",
       "    <tr>\n",
       "      <th>229</th>\n",
       "      <td>company</td>\n",
       "      <td>1744822824</td>\n",
       "      <td>Is Alphabet Inc. (NASDAQ:GOOGL) the Best Machi...</td>\n",
       "      <td>133935539</td>\n",
       "      <td>https://s.yimg.com/rz/stage/p/yahoo_finance_en...</td>\n",
       "      <td>GOOGL</td>\n",
       "      <td>Yahoo</td>\n",
       "      <td>We recently published a list of the 10 Best Ma...</td>\n",
       "      <td>https://finnhub.io/api/news?id=1c2d2e437dd6a2f...</td>\n",
       "    </tr>\n",
       "    <tr>\n",
       "      <th>230</th>\n",
       "      <td>company</td>\n",
       "      <td>1744816860</td>\n",
       "      <td>Big Tech’s China Risks Go Far Beyond Nvidia</td>\n",
       "      <td>133945001</td>\n",
       "      <td>NaN</td>\n",
       "      <td>GOOGL</td>\n",
       "      <td>MarketWatch</td>\n",
       "      <td>Big Tech’s China Risks Go Far Beyond Nvidia</td>\n",
       "      <td>https://finnhub.io/api/news?id=d7b8b9a7c587d01...</td>\n",
       "    </tr>\n",
       "  </tbody>\n",
       "</table>\n",
       "<p>231 rows × 9 columns</p>\n",
       "</div>"
      ],
      "text/plain": [
       "    category    datetime                                           headline  \\\n",
       "0    company  1745449200  Alphabet earnings, Fed comments, Nintendo Swit...   \n",
       "1    company  1745446095  Is Alphabet Inc. (GOOGL) the Best Stock to Buy...   \n",
       "2    company  1745442355  Is Alphabet Inc. (GOOG) the Best Stock to Buy ...   \n",
       "3    company  1745440328  Google earnings are coming today. Here's what ...   \n",
       "4    company  1745439372  Equity Markets Close Higher Over Potential Red...   \n",
       "..       ...         ...                                                ...   \n",
       "226  company  1744828750  Temu, Shein slash digital ads as tariffs end c...   \n",
       "227  company  1744825027  Communications Services Slide on Flight From R...   \n",
       "228  company  1744823999          Prominent Investor Unloads His GOOG Stock   \n",
       "229  company  1744822824  Is Alphabet Inc. (NASDAQ:GOOGL) the Best Machi...   \n",
       "230  company  1744816860        Big Tech’s China Risks Go Far Beyond Nvidia   \n",
       "\n",
       "            id                                              image related  \\\n",
       "0    134059226  https://s.yimg.com/rz/stage/p/yahoo_finance_en...   GOOGL   \n",
       "1    134059227  https://s.yimg.com/rz/stage/p/yahoo_finance_en...   GOOGL   \n",
       "2    134059228  https://s.yimg.com/rz/stage/p/yahoo_finance_en...   GOOGL   \n",
       "3    134059229  https://s.yimg.com/rz/stage/p/yahoo_finance_en...   GOOGL   \n",
       "4    134059230  https://s.yimg.com/rz/stage/p/yahoo_finance_en...   GOOGL   \n",
       "..         ...                                                ...     ...   \n",
       "226  133938138                                                NaN   GOOGL   \n",
       "227  133937668                                                NaN   GOOGL   \n",
       "228  133942438  https://s.yimg.com/rz/stage/p/yahoo_finance_en...   GOOGL   \n",
       "229  133935539  https://s.yimg.com/rz/stage/p/yahoo_finance_en...   GOOGL   \n",
       "230  133945001                                                NaN   GOOGL   \n",
       "\n",
       "          source                                            summary  \\\n",
       "0          Yahoo  Here's what investors are watching on Thursday...   \n",
       "1          Yahoo  We recently published a list of 10 Best Stocks...   \n",
       "2          Yahoo  We recently published a list of 20 Best Stocks...   \n",
       "3          Yahoo  Google (GOOGL) will report first-quarter 2025 ...   \n",
       "4          Yahoo  US benchmark equity indexes closed higher on W...   \n",
       "..           ...                                                ...   \n",
       "226      Finnhub  Chinese online marketplace Temu and fast-fashi...   \n",
       "227      Finnhub  Communications-services companies slid as trad...   \n",
       "228        Yahoo  Well-known investor Josh Brown disclosed on CN...   \n",
       "229        Yahoo  We recently published a list of the 10 Best Ma...   \n",
       "230  MarketWatch        Big Tech’s China Risks Go Far Beyond Nvidia   \n",
       "\n",
       "                                                   url  \n",
       "0    https://finnhub.io/api/news?id=5381fda0f641074...  \n",
       "1    https://finnhub.io/api/news?id=bdc5b5103ae73db...  \n",
       "2    https://finnhub.io/api/news?id=8cdf3969c1ec9e3...  \n",
       "3    https://finnhub.io/api/news?id=ed468a233b607bd...  \n",
       "4    https://finnhub.io/api/news?id=54bdad840d13d87...  \n",
       "..                                                 ...  \n",
       "226  https://finnhub.io/api/news?id=102f1c3f6a168e2...  \n",
       "227  https://finnhub.io/api/news?id=7f3caaad7cfb8bd...  \n",
       "228  https://finnhub.io/api/news?id=b6947c8f36b7430...  \n",
       "229  https://finnhub.io/api/news?id=1c2d2e437dd6a2f...  \n",
       "230  https://finnhub.io/api/news?id=d7b8b9a7c587d01...  \n",
       "\n",
       "[231 rows x 9 columns]"
      ]
     },
     "execution_count": 2,
     "metadata": {},
     "output_type": "execute_result"
    }
   ],
   "source": [
    "# Import the important libraries\n",
    "import pandas as pd\n",
    "import numpy as np\n",
    "import matplotlib.pyplot as plt\n",
    "import seaborn as sns\n",
    "from datetime import datetime\n",
    "\n",
    "# Load the dataset\n",
    "df = pd.read_csv('/kaggle/input/google-googl-financial-news-from-2000-to-today/Google_Daily_News.csv')\n",
    "\n",
    "df"
   ]
  },
  {
   "cell_type": "code",
   "execution_count": 3,
   "id": "4ed76b80",
   "metadata": {
    "execution": {
     "iopub.execute_input": "2025-04-26T17:32:25.470485Z",
     "iopub.status.busy": "2025-04-26T17:32:25.470155Z",
     "iopub.status.idle": "2025-04-26T17:32:25.478847Z",
     "shell.execute_reply": "2025-04-26T17:32:25.477881Z"
    },
    "papermill": {
     "duration": 0.014076,
     "end_time": "2025-04-26T17:32:25.480416",
     "exception": false,
     "start_time": "2025-04-26T17:32:25.466340",
     "status": "completed"
    },
    "tags": []
   },
   "outputs": [
    {
     "name": "stdout",
     "output_type": "stream",
     "text": [
      "  category    datetime                                           headline  \\\n",
      "0  company  1745449200  Alphabet earnings, Fed comments, Nintendo Swit...   \n",
      "1  company  1745446095  Is Alphabet Inc. (GOOGL) the Best Stock to Buy...   \n",
      "2  company  1745442355  Is Alphabet Inc. (GOOG) the Best Stock to Buy ...   \n",
      "3  company  1745440328  Google earnings are coming today. Here's what ...   \n",
      "4  company  1745439372  Equity Markets Close Higher Over Potential Red...   \n",
      "\n",
      "          id                                              image related  \\\n",
      "0  134059226  https://s.yimg.com/rz/stage/p/yahoo_finance_en...   GOOGL   \n",
      "1  134059227  https://s.yimg.com/rz/stage/p/yahoo_finance_en...   GOOGL   \n",
      "2  134059228  https://s.yimg.com/rz/stage/p/yahoo_finance_en...   GOOGL   \n",
      "3  134059229  https://s.yimg.com/rz/stage/p/yahoo_finance_en...   GOOGL   \n",
      "4  134059230  https://s.yimg.com/rz/stage/p/yahoo_finance_en...   GOOGL   \n",
      "\n",
      "  source                                            summary  \\\n",
      "0  Yahoo  Here's what investors are watching on Thursday...   \n",
      "1  Yahoo  We recently published a list of 10 Best Stocks...   \n",
      "2  Yahoo  We recently published a list of 20 Best Stocks...   \n",
      "3  Yahoo  Google (GOOGL) will report first-quarter 2025 ...   \n",
      "4  Yahoo  US benchmark equity indexes closed higher on W...   \n",
      "\n",
      "                                                 url  \n",
      "0  https://finnhub.io/api/news?id=5381fda0f641074...  \n",
      "1  https://finnhub.io/api/news?id=bdc5b5103ae73db...  \n",
      "2  https://finnhub.io/api/news?id=8cdf3969c1ec9e3...  \n",
      "3  https://finnhub.io/api/news?id=ed468a233b607bd...  \n",
      "4  https://finnhub.io/api/news?id=54bdad840d13d87...  \n"
     ]
    }
   ],
   "source": [
    "# Display First Five Rows\n",
    "print(df.head(5))"
   ]
  },
  {
   "cell_type": "code",
   "execution_count": 4,
   "id": "89150ccd",
   "metadata": {
    "execution": {
     "iopub.execute_input": "2025-04-26T17:32:25.487539Z",
     "iopub.status.busy": "2025-04-26T17:32:25.487253Z",
     "iopub.status.idle": "2025-04-26T17:32:25.508335Z",
     "shell.execute_reply": "2025-04-26T17:32:25.507311Z"
    },
    "papermill": {
     "duration": 0.026281,
     "end_time": "2025-04-26T17:32:25.509828",
     "exception": false,
     "start_time": "2025-04-26T17:32:25.483547",
     "status": "completed"
    },
    "tags": []
   },
   "outputs": [
    {
     "name": "stdout",
     "output_type": "stream",
     "text": [
      "<class 'pandas.core.frame.DataFrame'>\n",
      "RangeIndex: 231 entries, 0 to 230\n",
      "Data columns (total 9 columns):\n",
      " #   Column    Non-Null Count  Dtype \n",
      "---  ------    --------------  ----- \n",
      " 0   category  231 non-null    object\n",
      " 1   datetime  231 non-null    int64 \n",
      " 2   headline  231 non-null    object\n",
      " 3   id        231 non-null    int64 \n",
      " 4   image     158 non-null    object\n",
      " 5   related   231 non-null    object\n",
      " 6   source    231 non-null    object\n",
      " 7   summary   190 non-null    object\n",
      " 8   url       231 non-null    object\n",
      "dtypes: int64(2), object(7)\n",
      "memory usage: 16.4+ KB\n"
     ]
    }
   ],
   "source": [
    "# Check for the basics info\n",
    "df.info()"
   ]
  },
  {
   "cell_type": "code",
   "execution_count": 5,
   "id": "0f6a8f12",
   "metadata": {
    "execution": {
     "iopub.execute_input": "2025-04-26T17:32:25.516783Z",
     "iopub.status.busy": "2025-04-26T17:32:25.516519Z",
     "iopub.status.idle": "2025-04-26T17:32:25.524555Z",
     "shell.execute_reply": "2025-04-26T17:32:25.523346Z"
    },
    "papermill": {
     "duration": 0.013434,
     "end_time": "2025-04-26T17:32:25.526293",
     "exception": false,
     "start_time": "2025-04-26T17:32:25.512859",
     "status": "completed"
    },
    "tags": []
   },
   "outputs": [
    {
     "data": {
      "text/plain": [
       "category     0\n",
       "datetime     0\n",
       "headline     0\n",
       "id           0\n",
       "image       73\n",
       "related      0\n",
       "source       0\n",
       "summary     41\n",
       "url          0\n",
       "dtype: int64"
      ]
     },
     "execution_count": 5,
     "metadata": {},
     "output_type": "execute_result"
    }
   ],
   "source": [
    "# Check for missing values\n",
    "df.isnull().sum()"
   ]
  },
  {
   "cell_type": "code",
   "execution_count": 6,
   "id": "2613afff",
   "metadata": {
    "execution": {
     "iopub.execute_input": "2025-04-26T17:32:25.534043Z",
     "iopub.status.busy": "2025-04-26T17:32:25.533237Z",
     "iopub.status.idle": "2025-04-26T17:32:25.540438Z",
     "shell.execute_reply": "2025-04-26T17:32:25.539396Z"
    },
    "papermill": {
     "duration": 0.012542,
     "end_time": "2025-04-26T17:32:25.541891",
     "exception": false,
     "start_time": "2025-04-26T17:32:25.529349",
     "status": "completed"
    },
    "tags": []
   },
   "outputs": [
    {
     "data": {
      "text/plain": [
       "category\n",
       "company    231\n",
       "Name: count, dtype: int64"
      ]
     },
     "execution_count": 6,
     "metadata": {},
     "output_type": "execute_result"
    }
   ],
   "source": [
    "# Check uniquie values in categorical columns\n",
    "df['category'].value_counts()"
   ]
  },
  {
   "cell_type": "markdown",
   "id": "192d1b62",
   "metadata": {
    "papermill": {
     "duration": 0.003127,
     "end_time": "2025-04-26T17:32:25.549577",
     "exception": false,
     "start_time": "2025-04-26T17:32:25.546450",
     "status": "completed"
    },
    "tags": []
   },
   "source": [
    "# Data Cleaning\n"
   ]
  },
  {
   "cell_type": "code",
   "execution_count": 7,
   "id": "26b3528c",
   "metadata": {
    "execution": {
     "iopub.execute_input": "2025-04-26T17:32:25.557148Z",
     "iopub.status.busy": "2025-04-26T17:32:25.556807Z",
     "iopub.status.idle": "2025-04-26T17:32:25.564854Z",
     "shell.execute_reply": "2025-04-26T17:32:25.563898Z"
    },
    "papermill": {
     "duration": 0.013661,
     "end_time": "2025-04-26T17:32:25.566373",
     "exception": false,
     "start_time": "2025-04-26T17:32:25.552712",
     "status": "completed"
    },
    "tags": []
   },
   "outputs": [
    {
     "name": "stderr",
     "output_type": "stream",
     "text": [
      "/tmp/ipykernel_13/3429050402.py:8: FutureWarning: A value is trying to be set on a copy of a DataFrame or Series through chained assignment using an inplace method.\n",
      "The behavior will change in pandas 3.0. This inplace method will never work because the intermediate object on which we are setting values always behaves as a copy.\n",
      "\n",
      "For example, when doing 'df[col].method(value, inplace=True)', try using 'df.method({col: value}, inplace=True)' or df[col] = df[col].method(value) instead, to perform the operation inplace on the original object.\n",
      "\n",
      "\n",
      "  df['summary'].fillna(df['headline'], inplace=True)\n"
     ]
    }
   ],
   "source": [
    "# Convert UNIX timestamp to datetime\n",
    "df['date'] = pd.to_datetime(df['datetime'], unit='ms')\n",
    "\n",
    "# Drop unnecessary columns\n",
    "# df.drop(['id', 'image', 'url'], axis=1, inplace=True)\n",
    "\n",
    "# Handling missing summaries (fill with headlines if missing)\n",
    "df['summary'].fillna(df['headline'], inplace=True)\n",
    "\n",
    "\n",
    "\n"
   ]
  },
  {
   "cell_type": "code",
   "execution_count": null,
   "id": "49b5fa09",
   "metadata": {
    "papermill": {
     "duration": 0.00287,
     "end_time": "2025-04-26T17:32:25.572468",
     "exception": false,
     "start_time": "2025-04-26T17:32:25.569598",
     "status": "completed"
    },
    "tags": []
   },
   "outputs": [],
   "source": []
  }
 ],
 "metadata": {
  "kaggle": {
   "accelerator": "none",
   "dataSources": [
    {
     "databundleVersionId": 12026306,
     "datasetId": 7242017,
     "sourceId": 11569894,
     "sourceType": "datasetVersion"
    }
   ],
   "dockerImageVersionId": 31012,
   "isGpuEnabled": false,
   "isInternetEnabled": true,
   "language": "python",
   "sourceType": "notebook"
  },
  "kernelspec": {
   "display_name": "Python 3",
   "language": "python",
   "name": "python3"
  },
  "language_info": {
   "codemirror_mode": {
    "name": "ipython",
    "version": 3
   },
   "file_extension": ".py",
   "mimetype": "text/x-python",
   "name": "python",
   "nbconvert_exporter": "python",
   "pygments_lexer": "ipython3",
   "version": "3.11.11"
  },
  "papermill": {
   "default_parameters": {},
   "duration": 9.747538,
   "end_time": "2025-04-26T17:32:26.196106",
   "environment_variables": {},
   "exception": null,
   "input_path": "__notebook__.ipynb",
   "output_path": "__notebook__.ipynb",
   "parameters": {},
   "start_time": "2025-04-26T17:32:16.448568",
   "version": "2.6.0"
  }
 },
 "nbformat": 4,
 "nbformat_minor": 5
}
